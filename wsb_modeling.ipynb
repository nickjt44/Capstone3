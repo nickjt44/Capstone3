{
 "cells": [
  {
   "cell_type": "markdown",
   "metadata": {},
   "source": [
    "Now it's time to implement the modeling phase of the project. The goal is to predict whether a given cascade (reddit post or grouping of related reddit posts) will at least double in size when observed at a specific stage. To implement this, I will extract features from the connected components of the post graph at various stages (numbers of responding comments or posts).\n",
    "\n",
    "In this analysis, I will focus exclusively on temporal features. This is because there is considerable evidence that temporal features alone perform relatively well for this prediction task (a paper by Leskovec et al will be referenced in the final report), and that other features (eg. structural) may bias the predictor against accurate predictions of the large GME cascade, because of the vastly different scale.\n",
    "\n",
    "Therefore, my hope is that there is enough similarity in temporal cascade structure between smaller and larger cascades for this to provide good predictions.\n",
    "\n",
    "I will test a number of machine learning algorithms in this section, so I will be importing a large number of libraries."
   ]
  },
  {
   "cell_type": "code",
   "execution_count": 1,
   "metadata": {},
   "outputs": [],
   "source": [
    "import pandas as pd\n",
    "import numpy as np\n",
    "import networkx as nx\n",
    "import matplotlib.pyplot as plt\n",
    "import seaborn as sns\n",
    "import random\n",
    "import pickle as pkl\n",
    "from sklearn.ensemble import RandomForestClassifier\n",
    "from sklearn.model_selection import train_test_split\n",
    "from sklearn.metrics import accuracy_score\n",
    "from sklearn.metrics import precision_score\n",
    "from sklearn.metrics import recall_score\n",
    "from sklearn import svm\n",
    "from sklearn.preprocessing import StandardScaler\n",
    "from sklearn.pipeline import make_pipeline\n",
    "from sklearn.linear_model import LogisticRegression\n",
    "from xgboost import XGBClassifier\n",
    "from xgboost import XGBRegressor\n",
    "from rotation_forest import RotationForestClassifier\n",
    "from sklearn.linear_model import SGDClassifier\n",
    "from sklearn.metrics import mean_squared_error\n",
    "from sklearn.metrics import f1_score"
   ]
  },
  {
   "cell_type": "markdown",
   "metadata": {},
   "source": [
    "I load the graphs created in the last section. Recall that one has some directed links between posts if they are on the same topic (stock) and were made by someone who commented on the parent post within 24 hours. The other simly contains post-comment cascades.\n",
    "\n",
    "I will refer to cascades with a single source post as trees, and cascades with multiple source posts as forests, again taking my cue from Leskovec's paper."
   ]
  },
  {
   "cell_type": "code",
   "execution_count": 2,
   "metadata": {},
   "outputs": [],
   "source": [
    "graph = nx.read_gpickle(open('posts_graph_connected.pkl','rb'))"
   ]
  },
  {
   "cell_type": "code",
   "execution_count": 3,
   "metadata": {},
   "outputs": [],
   "source": [
    "graph_trees = nx.read_gpickle(open('posts_graph_disconnected.pkl','rb'))"
   ]
  },
  {
   "cell_type": "markdown",
   "metadata": {},
   "source": [
    "In terms of nodes and edges, there isn't noticeably much difference between the graphs."
   ]
  },
  {
   "cell_type": "code",
   "execution_count": 4,
   "metadata": {},
   "outputs": [
    {
     "data": {
      "text/plain": [
       "2482046"
      ]
     },
     "execution_count": 4,
     "metadata": {},
     "output_type": "execute_result"
    }
   ],
   "source": [
    "len(graph.nodes())"
   ]
  },
  {
   "cell_type": "code",
   "execution_count": 5,
   "metadata": {},
   "outputs": [
    {
     "data": {
      "text/plain": [
       "2482046"
      ]
     },
     "execution_count": 5,
     "metadata": {},
     "output_type": "execute_result"
    }
   ],
   "source": [
    "len(graph_trees.nodes())"
   ]
  },
  {
   "cell_type": "code",
   "execution_count": 6,
   "metadata": {},
   "outputs": [
    {
     "data": {
      "text/plain": [
       "2282869"
      ]
     },
     "execution_count": 6,
     "metadata": {},
     "output_type": "execute_result"
    }
   ],
   "source": [
    "len(graph.edges())"
   ]
  },
  {
   "cell_type": "code",
   "execution_count": 7,
   "metadata": {},
   "outputs": [
    {
     "data": {
      "text/plain": [
       "2192225"
      ]
     },
     "execution_count": 7,
     "metadata": {},
     "output_type": "execute_result"
    }
   ],
   "source": [
    "len(graph_trees.edges())"
   ]
  },
  {
   "cell_type": "markdown",
   "metadata": {},
   "source": [
    "First, I will graphically examine both the forest cascades and the tree cascades."
   ]
  },
  {
   "cell_type": "code",
   "execution_count": 8,
   "metadata": {},
   "outputs": [],
   "source": [
    "components_5 = [a for a in nx.weakly_connected_components(graph) if len(a) > 5]"
   ]
  },
  {
   "cell_type": "code",
   "execution_count": 9,
   "metadata": {},
   "outputs": [],
   "source": [
    "graphs_list = []\n",
    "for component in components_5:\n",
    "    g = nx.subgraph(graph,component)\n",
    "    graphs_list.append(g)"
   ]
  },
  {
   "cell_type": "code",
   "execution_count": 10,
   "metadata": {},
   "outputs": [],
   "source": [
    "forest_list = []\n",
    "trees_list = []\n",
    "for g in graphs_list:\n",
    "    nodes = [n for n in g.nodes(data=True) if n[1]['posttype'] == 'post']\n",
    "    if len(nodes) > 4:\n",
    "        #print(len(nodes))\n",
    "        forest_list.append(g)\n",
    "    if len(nodes) == 1:\n",
    "        trees_list.append(g)"
   ]
  },
  {
   "cell_type": "code",
   "execution_count": 11,
   "metadata": {},
   "outputs": [],
   "source": [
    "x_vals = []\n",
    "for forest in forest_list:\n",
    "    nodes = forest.nodes(data=True)\n",
    "    sorted_nodes = sorted(nodes,key=lambda k:k[1]['time'])\n",
    "    if len(sorted_nodes) > 5000:\n",
    "        interval = sorted_nodes[-1][1]['time'] - sorted_nodes[0][1]['time']\n",
    "        bin_size = int(np.floor(interval/1000))\n",
    "        counts = []\n",
    "        for i in range(1,1000):\n",
    "            current_min = sorted_nodes[0][1]['time'] + (i-1)*bin_size \n",
    "            current_max = sorted_nodes[0][1]['time'] + (i)*bin_size\n",
    "            current_count = 0\n",
    "            for node in sorted_nodes:\n",
    "                if node[1]['time'] > current_min and node[1]['time'] < current_max:\n",
    "                    current_count += 1\n",
    "            counts.append(current_count)\n",
    "        x_vals.append(counts)\n",
    "        #print(len(x_vals))"
   ]
  },
  {
   "cell_type": "code",
   "execution_count": 12,
   "metadata": {},
   "outputs": [
    {
     "data": {
      "text/plain": [
       "[<matplotlib.lines.Line2D at 0x209a2d3b790>]"
      ]
     },
     "execution_count": 12,
     "metadata": {},
     "output_type": "execute_result"
    },
    {
     "data": {
      "image/png": "[encoded data removed]",
      "text/plain": [
       "<Figure size 432x288 with 1 Axes>"
      ]
     },
     "metadata": {
      "needs_background": "light"
     },
     "output_type": "display_data"
    }
   ],
   "source": [
    "plt.plot(x_vals[0][:200])\n",
    "plt.plot(x_vals[1][:200])\n",
    "plt.plot(x_vals[2][:200])\n",
    "plt.plot(x_vals[3][:200])"
   ]
  },
  {
   "cell_type": "markdown",
   "metadata": {},
   "source": [
    "As can be seen above, forest cascades typically begin relatively small, but reach their peak quickly in their life cycle before mostly dying off."
   ]
  },
  {
   "cell_type": "markdown",
   "metadata": {},
   "source": [
    "Below, I have included a much larger cascade with the others above. Besides being significantly larger, it also peaked at a later relative time, which may make predicting forest cascades more challenging."
   ]
  },
  {
   "cell_type": "code",
   "execution_count": 13,
   "metadata": {},
   "outputs": [
    {
     "data": {
      "text/plain": [
       "[<matplotlib.lines.Line2D at 0x209a3db2100>]"
      ]
     },
     "execution_count": 13,
     "metadata": {},
     "output_type": "execute_result"
    },
    {
     "data": {
      "image/png": "[encoded data removed]",
      "text/plain": [
       "<Figure size 432x288 with 1 Axes>"
      ]
     },
     "metadata": {
      "needs_background": "light"
     },
     "output_type": "display_data"
    }
   ],
   "source": [
    "plt.plot(x_vals[0][:200])\n",
    "plt.plot(x_vals[1][:200])\n",
    "plt.plot(x_vals[2][:200])\n",
    "plt.plot(x_vals[3][:200])\n",
    "plt.plot(x_vals[4][:200])"
   ]
  },
  {
   "cell_type": "markdown",
   "metadata": {},
   "source": [
    "The tree cascades, on the other hand, typically peak immediately, and drop off very fast. This makes intuitive sense, since they have only one root post, and popular posts on Reddit tend to become active very quickly."
   ]
  },
  {
   "cell_type": "code",
   "execution_count": 14,
   "metadata": {},
   "outputs": [],
   "source": [
    "x_vals_tree = []\n",
    "for tree in trees_list:\n",
    "    nodes = tree.nodes(data=True)\n",
    "    sorted_nodes = sorted(nodes,key=lambda k:k[1]['time'])\n",
    "    if len(sorted_nodes) > 500:\n",
    "        interval = sorted_nodes[-1][1]['time'] - sorted_nodes[0][1]['time']\n",
    "        bin_size = int(np.floor(interval/1000))\n",
    "        counts = []\n",
    "        for i in range(1,1000):\n",
    "            current_min = sorted_nodes[0][1]['time'] + (i-1)*bin_size \n",
    "            current_max = sorted_nodes[0][1]['time'] + (i)*bin_size\n",
    "            current_count = 0\n",
    "            for node in sorted_nodes:\n",
    "                if node[1]['time'] > current_min and node[1]['time'] < current_max:\n",
    "                    current_count += 1\n",
    "            counts.append(current_count)\n",
    "        x_vals_tree.append(counts)\n",
    "        #print(len(x_vals_tree))"
   ]
  },
  {
   "cell_type": "code",
   "execution_count": 15,
   "metadata": {},
   "outputs": [
    {
     "data": {
      "text/plain": [
       "[<matplotlib.lines.Line2D at 0x209a45c96a0>]"
      ]
     },
     "execution_count": 15,
     "metadata": {},
     "output_type": "execute_result"
    },
    {
     "data": {
      "image/png": "[encoded data removed]",
      "text/plain": [
       "<Figure size 432x288 with 1 Axes>"
      ]
     },
     "metadata": {
      "needs_background": "light"
     },
     "output_type": "display_data"
    }
   ],
   "source": [
    "plt.plot(x_vals_tree[0][:200])\n",
    "plt.plot(x_vals_tree[1][:200])\n",
    "plt.plot(x_vals_tree[2][:200])\n",
    "plt.plot(x_vals_tree[3][:200])\n",
    "plt.plot(x_vals_tree[4][:200])"
   ]
  },
  {
   "cell_type": "markdown",
   "metadata": {},
   "source": [
    "I will experiment with the graph of trees first, though predicting the forests is the more useful task in this instance, since it is large groupings of reddit posts that spawn the collective action resulting in events like the Gamestop stock explosion."
   ]
  },
  {
   "cell_type": "markdown",
   "metadata": {},
   "source": [
    "Here, I extract all weakly connected components of the tree graph. A weakly connected component is just a group of nodes, each of which are connected by undirected path."
   ]
  },
  {
   "cell_type": "code",
   "execution_count": 16,
   "metadata": {},
   "outputs": [],
   "source": [
    "components_100 = [a for a in nx.weakly_connected_components(graph_trees) if len(a) > 100]"
   ]
  },
  {
   "cell_type": "code",
   "execution_count": 17,
   "metadata": {},
   "outputs": [
    {
     "data": {
      "text/plain": [
       "3990"
      ]
     },
     "execution_count": 17,
     "metadata": {},
     "output_type": "execute_result"
    }
   ],
   "source": [
    "len(components_100)"
   ]
  },
  {
   "cell_type": "markdown",
   "metadata": {},
   "source": [
    "Here, I split the trees into 5 separate 'folds' for cross validation in order to produce the most accurate model. I am performing this step here because I will be extracting multiple data rows from some of the trees to have more data available, and I don't want rows relating to the same trees being in both the training set and the test set, to ensure that my results aren't biased. However, this means that the sizes of the train and test sets won't always be the same for each fold."
   ]
  },
  {
   "cell_type": "code",
   "execution_count": 18,
   "metadata": {},
   "outputs": [],
   "source": [
    "tree_list = []\n",
    "for component in components_100:\n",
    "    g = nx.subgraph(graph_trees,component)\n",
    "    tree_list.append(g)"
   ]
  },
  {
   "cell_type": "code",
   "execution_count": 19,
   "metadata": {},
   "outputs": [],
   "source": [
    "random.shuffle(tree_list)"
   ]
  },
  {
   "cell_type": "code",
   "execution_count": 20,
   "metadata": {},
   "outputs": [],
   "source": [
    "train_tree_folds = []\n",
    "test_tree_folds = []"
   ]
  },
  {
   "cell_type": "code",
   "execution_count": 21,
   "metadata": {},
   "outputs": [],
   "source": [
    "for i in range(5):\n",
    "    test_trees = tree_list[int(np.floor(i*len(tree_list)/5)):int(np.floor((i+1)*len(tree_list)/5))]\n",
    "    train_trees = tree_list\n",
    "    train_trees = [t for t in train_trees if t not in test_trees]\n",
    "    train_tree_folds.append(train_trees)\n",
    "    test_tree_folds.append(test_trees)"
   ]
  },
  {
   "cell_type": "code",
   "execution_count": 22,
   "metadata": {},
   "outputs": [
    {
     "data": {
      "text/plain": [
       "798"
      ]
     },
     "execution_count": 22,
     "metadata": {},
     "output_type": "execute_result"
    }
   ],
   "source": [
    "len(test_tree_folds[0])"
   ]
  },
  {
   "cell_type": "markdown",
   "metadata": {},
   "source": [
    "Now, I extract the temporal features relating to each tree. I iterate over all the trees in the training set for each fold, and calculate the various temporal features. The features are very simple, consisting of averages of the time it takes for a new node to be added at various intervals, and their ratios."
   ]
  },
  {
   "cell_type": "code",
   "execution_count": 23,
   "metadata": {},
   "outputs": [],
   "source": [
    "def extract_features_trees(folds):\n",
    "    tree_features_list = []\n",
    "    for k in range(5):    \n",
    "        tree_features = pd.DataFrame()\n",
    "\n",
    "        count = 0\n",
    "        for tree in folds[k]:\n",
    "            print(count)\n",
    "            f = nx.DiGraph(tree)\n",
    "            sorted_nodes = sorted([n for n in f.nodes(data=True)], key=lambda x: x[1]['time'])\n",
    "            steps = [100 + i*100 for i in range(100)]\n",
    "\n",
    "            for step in steps:\n",
    "            #for step in [1000,1250,1500,1750,2000,3000,4000,5000,6000,7000,8000,9000,10000,12000,15000,17500,20000,22000,25000,30000,35000,40000,50000,60000,70000,80000,90000,100000,125000,150000,175000,200000]:\n",
    "                if len(sorted_nodes) < step:\n",
    "                    break\n",
    "                count += 1\n",
    "                if len(sorted_nodes) > 2*step:\n",
    "                    result = 1\n",
    "                else:\n",
    "                    result = 0\n",
    "\n",
    "                all_nodes_first_half = sorted_nodes[:int(np.floor(step/2))]\n",
    "                all_nodes_second_half = sorted_nodes[int(np.floor(step/2)):step]\n",
    "\n",
    "                avg_time_first_half_all = np.mean([all_nodes_first_half[i][1]['time'] - all_nodes_first_half[i-1][1]['time'] for i in range(1,len(all_nodes_first_half))])\n",
    "\n",
    "                avg_time_second_half_all = np.mean([all_nodes_second_half[i][1]['time'] - all_nodes_second_half[i-1][1]['time'] for i in range(1,len(all_nodes_second_half))])\n",
    "                #print(avg_time_second_half_all)\n",
    "                ratio_all = avg_time_second_half_all / avg_time_first_half_all\n",
    "\n",
    "                all_nodes_first_q = sorted_nodes[:int(np.floor(step/4))]\n",
    "                all_nodes_second_q = sorted_nodes[int(np.floor(step/4)):int(2*np.floor(step/4))]\n",
    "                all_nodes_third_q = sorted_nodes[int(2*np.floor(step/4)):int(3*np.floor(step/4))]\n",
    "                all_nodes_fourth_q = sorted_nodes[int(3*np.floor(step/4)):step]\n",
    "\n",
    "                avg_time_first_q_all = np.mean([all_nodes_first_q[i][1]['time'] - all_nodes_first_q[i-1][1]['time'] for i in range(1,len(all_nodes_first_q))])\n",
    "                avg_time_second_q_all = np.mean([all_nodes_second_q[i][1]['time'] - all_nodes_second_q[i-1][1]['time'] for i in range(1,len(all_nodes_second_q))])\n",
    "                avg_time_third_q_all = np.mean([all_nodes_third_q[i][1]['time'] - all_nodes_third_q[i-1][1]['time'] for i in range(1,len(all_nodes_third_q))])\n",
    "                avg_time_fourth_q_all = np.mean([all_nodes_fourth_q[i][1]['time'] - all_nodes_fourth_q[i-1][1]['time'] for i in range(1,len(all_nodes_fourth_q))])\n",
    "                ratio_43 = avg_time_fourth_q_all/avg_time_third_q_all\n",
    "                ratio_42 = avg_time_fourth_q_all/avg_time_second_q_all\n",
    "                ratio_41 = avg_time_fourth_q_all/avg_time_first_q_all\n",
    "\n",
    "                all_nodes_first_10 = sorted_nodes[:int(np.floor(step/10))]\n",
    "                all_nodes_second_10 = sorted_nodes[int(np.floor(step/10)):int(2*np.floor(step/10))]\n",
    "                all_nodes_third_10 = sorted_nodes[int(2*np.floor(step/10)):int(3*np.floor(step/10))]\n",
    "                all_nodes_fourth_10 = sorted_nodes[int(3*np.floor(step/10)):int(4*np.floor(step/10))]\n",
    "                all_nodes_fifth_10 = sorted_nodes[int(4*np.floor(step/10)):int(5*np.floor(step/10))]\n",
    "                all_nodes_sixth_10 = sorted_nodes[int(5*np.floor(step/10)):int(6*np.floor(step/10))]\n",
    "                all_nodes_seventh_10 = sorted_nodes[int(6*np.floor(step/10)):int(7*np.floor(step/10))]\n",
    "                all_nodes_eighth_10 = sorted_nodes[int(7*np.floor(step/10)):int(8*np.floor(step/10))]\n",
    "                all_nodes_ninth_10 = sorted_nodes[int(8*np.floor(step/10)):int(9*np.floor(step/10))]\n",
    "                all_nodes_last_10 = sorted_nodes[int(9*np.floor(step/10)):step]\n",
    "\n",
    "                avg_time_first_10_all = np.mean([all_nodes_first_10[i][1]['time'] - all_nodes_first_10[i-1][1]['time'] for i in range(1,len(all_nodes_first_10))])\n",
    "                avg_time_second_10_all = np.mean([all_nodes_second_10[i][1]['time'] - all_nodes_second_10[i-1][1]['time'] for i in range(1,len(all_nodes_second_10))])\n",
    "                avg_time_third_10_all = np.mean([all_nodes_third_10[i][1]['time'] - all_nodes_third_10[i-1][1]['time'] for i in range(1,len(all_nodes_third_10))])\n",
    "                avg_time_fourth_10_all = np.mean([all_nodes_fourth_10[i][1]['time'] - all_nodes_fourth_10[i-1][1]['time'] for i in range(1,len(all_nodes_fourth_10))])\n",
    "                avg_time_fifth_10_all = np.mean([all_nodes_fifth_10[i][1]['time'] - all_nodes_fifth_10[i-1][1]['time'] for i in range(1,len(all_nodes_fifth_10))])\n",
    "                avg_time_sixth_10_all = np.mean([all_nodes_sixth_10[i][1]['time'] - all_nodes_sixth_10[i-1][1]['time'] for i in range(1,len(all_nodes_sixth_10))])\n",
    "                avg_time_seventh_10_all = np.mean([all_nodes_seventh_10[i][1]['time'] - all_nodes_seventh_10[i-1][1]['time'] for i in range(1,len(all_nodes_seventh_10))])\n",
    "                avg_time_eighth_10_all = np.mean([all_nodes_eighth_10[i][1]['time'] - all_nodes_eighth_10[i-1][1]['time'] for i in range(1,len(all_nodes_eighth_10))])\n",
    "                avg_time_ninth_10_all = np.mean([all_nodes_ninth_10[i][1]['time'] - all_nodes_ninth_10[i-1][1]['time'] for i in range(1,len(all_nodes_ninth_10))])\n",
    "                avg_time_last_10_all = np.mean([all_nodes_last_10[i][1]['time'] - all_nodes_last_10[i-1][1]['time'] for i in range(1,len(all_nodes_last_10))])\n",
    "\n",
    "                ratio_109 = avg_time_last_10_all/avg_time_ninth_10_all\n",
    "                ratio_108 = avg_time_last_10_all/avg_time_eighth_10_all\n",
    "                ratio_106 = avg_time_last_10_all/avg_time_sixth_10_all\n",
    "                ratio_101 = avg_time_last_10_all/avg_time_first_10_all\n",
    "\n",
    "\n",
    "                tree_features = tree_features.append({'avg_time_last_10_all':avg_time_last_10_all,'avg_time_ninth_10_all':avg_time_ninth_10_all,\n",
    "                                                                  'avg_time_eighth_10_all':avg_time_eighth_10_all,'ratio_109':ratio_109,'ratio_108':ratio_108,'ratio_106':ratio_106,'ratio_101':ratio_101,'ratio_42':ratio_42,'ratio_41':ratio_41,'avg_time_first_half_all':avg_time_first_half_all,'avg_time_second_half_all':avg_time_second_half_all,\n",
    "                                                'ratio_all':ratio_all,'avg_time_third_q_all':avg_time_third_q_all,'avg_time_fourth_q_all':avg_time_fourth_q_all,'ratio_43':ratio_43,'class':result},ignore_index=True)\n",
    "        tree_features_list.append(tree_features)\n",
    "    return tree_features_list"
   ]
  },
  {
   "cell_type": "code",
   "execution_count": null,
   "metadata": {},
   "outputs": [],
   "source": [
    "train_tree_features_list = extract_features_trees(train_tree_folds)\n",
    "test_tree_features_list = extract_features_trees(test_tree_folds)"
   ]
  },
  {
   "cell_type": "code",
   "execution_count": 249,
   "metadata": {},
   "outputs": [],
   "source": [
    "pkl.dump(train_tree_features_list,open('train_tree_features_list.pkl','wb'))\n",
    "pkl.dump(test_tree_features_list,open('test_tree_features_list.pkl','wb'))"
   ]
  },
  {
   "cell_type": "code",
   "execution_count": 25,
   "metadata": {},
   "outputs": [],
   "source": [
    "train_tree_features_list = pkl.load(open('train_tree_features_list.pkl','rb'))\n",
    "test_tree_features_list = pkl.load(open('test_tree_features_list.pkl','rb'))"
   ]
  },
  {
   "cell_type": "markdown",
   "metadata": {},
   "source": [
    "I create a new column for the target variable so that it's at the end of the dataframe."
   ]
  },
  {
   "cell_type": "code",
   "execution_count": 26,
   "metadata": {},
   "outputs": [],
   "source": [
    "for i in range(5):\n",
    "    train_tree_features_list[i]['result'] = train_tree_features_list[i]['class']\n",
    "    train_tree_features_list[i] = train_tree_features_list[i].drop('class',axis=1)\n",
    "    test_tree_features_list[i]['result'] = test_tree_features_list[i]['class']\n",
    "    test_tree_features_list[i] = test_tree_features_list[i].drop('class',axis=1)"
   ]
  },
  {
   "cell_type": "markdown",
   "metadata": {},
   "source": [
    "Now I will evaluate three different machine learning models, and tune their hyperparameters for the best result. I will use standard Logistic Regression, Random Forest, and XGBoost, a gradient boosting algorithm.\n",
    "\n",
    "For Logistic Regression, I incorporate a scaler into the pipeline, since the model is linear.\n",
    "\n",
    "I evaluate the model via both the accuracy score and the f1 score."
   ]
  },
  {
   "cell_type": "code",
   "execution_count": 27,
   "metadata": {},
   "outputs": [
    {
     "name": "stdout",
     "output_type": "stream",
     "text": [
      "1\n",
      "0.7261593889600113\n",
      "1\n",
      "0.6649945355090651\n"
     ]
    }
   ],
   "source": [
    "best_C_acc = 1\n",
    "best_C_f1 = 1\n",
    "best_accuracy = 0\n",
    "best_f1 = 0\n",
    "\n",
    "for C in [1,0.5,0.25,0.1,0.05,0.025,0.01]:\n",
    "    av_accuracy = 0\n",
    "    av_f1 = 0\n",
    "    for i in range(5):\n",
    "        X_train = train_tree_features_list[i].iloc[:,:-1]\n",
    "        y_train = train_tree_features_list[i].iloc[:,-1]\n",
    "        X_test = test_tree_features_list[i].iloc[:,:-1]\n",
    "        y_test = test_tree_features_list[i].iloc[:,-1]\n",
    "    \n",
    "        xg = make_pipeline(StandardScaler(),LogisticRegression(C=C))\n",
    "        xg.fit(X_train,y_train)\n",
    "        y_pred = xg.predict(X_test)\n",
    "        #print(f1_score(y_test,y_pred))\n",
    "        #print(accuracy_score(y_pred,y_test))\n",
    "        av_accuracy = av_accuracy + accuracy_score(y_test,y_pred)\n",
    "        av_f1 = av_f1 + f1_score(y_test,y_pred)\n",
    "    av_accuracy = av_accuracy/5\n",
    "    av_f1 = av_f1/5\n",
    "    if av_accuracy > best_accuracy:\n",
    "        best_accuracy = av_accuracy\n",
    "        best_C_acc = C\n",
    "    if av_f1 > best_f1:\n",
    "        best_f1 = av_f1\n",
    "        best_C_f1 = C\n",
    "print(best_C_acc)\n",
    "print(best_accuracy)\n",
    "print(best_C_f1)\n",
    "print(best_f1)"
   ]
  },
  {
   "cell_type": "markdown",
   "metadata": {},
   "source": [
    "In this case, the default C value of 1 produces the best results. Accuracy of about 0.72 and f1 of around 0.66."
   ]
  },
  {
   "cell_type": "markdown",
   "metadata": {},
   "source": [
    "Now, I evaluate the Random Forest, tuning two relevant hyperparameters, n_estimators and max_depth."
   ]
  },
  {
   "cell_type": "code",
   "execution_count": 28,
   "metadata": {},
   "outputs": [
    {
     "name": "stdout",
     "output_type": "stream",
     "text": [
      "[8, 50]\n",
      "0.7482550899085314\n",
      "[8, 50]\n",
      "0.6964148525462874\n"
     ]
    }
   ],
   "source": [
    "best_estimators_acc = [2,10]\n",
    "best_estimators_f1 = [2,10]\n",
    "best_accuracy = 0\n",
    "best_f1 = 0\n",
    "for max_depth in [2,3,4,5,6,7,8]:\n",
    "    for n_estimators in [10,50,100,200,350,500,750,1000]:\n",
    "        av_accuracy = 0\n",
    "        av_f1 = 0\n",
    "        for i in range(5):\n",
    "            X_train = train_tree_features_list[i].iloc[:,:-1]\n",
    "            y_train = train_tree_features_list[i].iloc[:,-1]\n",
    "            X_test = test_tree_features_list[i].iloc[:,:-1]\n",
    "            y_test = test_tree_features_list[i].iloc[:,-1]\n",
    "\n",
    "            xg = RandomForestClassifier(n_estimators=n_estimators,max_depth=max_depth)\n",
    "            xg.fit(X_train,y_train)\n",
    "            y_pred = xg.predict(X_test)\n",
    "            #print(f1_score(y_test,y_pred))\n",
    "            #print(accuracy_score(y_pred,y_test))\n",
    "            av_accuracy = av_accuracy + accuracy_score(y_test,y_pred)\n",
    "            av_f1 = av_f1 + f1_score(y_test,y_pred)\n",
    "        av_accuracy = av_accuracy/5\n",
    "        av_f1 = av_f1/5\n",
    "        if av_accuracy > best_accuracy:\n",
    "            best_accuracy = av_accuracy\n",
    "            best_estimators_acc = [max_depth,n_estimators]\n",
    "        if av_f1 > best_f1:\n",
    "            best_f1 = av_f1\n",
    "            best_estimators_f1 = [max_depth,n_estimators]\n",
    "print(best_estimators_acc)\n",
    "print(best_accuracy)\n",
    "print(best_estimators_f1)\n",
    "print(best_f1)"
   ]
  },
  {
   "cell_type": "markdown",
   "metadata": {},
   "source": [
    "A max depth of 8 and n_estimators of 500 produced the best results for both metrics, improving on Logistic Regression."
   ]
  },
  {
   "cell_type": "code",
   "execution_count": null,
   "metadata": {},
   "outputs": [],
   "source": [
    "best_estimators_acc = [2,10]\n",
    "best_estimators_f1 = [2,10]\n",
    "best_accuracy = 0\n",
    "best_f1 = 0\n",
    "for max_depth in [2,3,4,5,6,7,8]:\n",
    "    for n_estimators in [10,50,100,200,350,500,750,1000]:\n",
    "        av_accuracy = 0\n",
    "        av_f1 = 0\n",
    "        for i in range(5):\n",
    "            X_train = train_tree_features_list[i].iloc[:,:-1]\n",
    "            y_train = train_tree_features_list[i].iloc[:,-1]\n",
    "            X_test = test_tree_features_list[i].iloc[:,:-1]\n",
    "            y_test = test_tree_features_list[i].iloc[:,-1]\n",
    "\n",
    "            xg = XGBClassifier(n_estimators=n_estimators,max_depth=max_depth)\n",
    "            xg.fit(X_train,y_train)\n",
    "            y_pred = xg.predict(X_test)\n",
    "            av_accuracy = av_accuracy + accuracy_score(y_test,y_pred)\n",
    "            av_f1 = av_f1 + f1_score(y_test,y_pred)\n",
    "        av_accuracy = av_accuracy/5\n",
    "        av_f1 = av_f1/5\n",
    "        if av_accuracy > best_accuracy:\n",
    "            best_accuracy = av_accuracy\n",
    "            best_estimators_acc = [max_depth,n_estimators]\n",
    "        if av_f1 > best_f1:\n",
    "            best_f1 = av_f1\n",
    "            best_estimators_f1 = [max_depth,n_estimators]\n",
    "print(best_estimators_acc)\n",
    "print(best_accuracy)\n",
    "print(best_estimators_f1)\n",
    "print(best_f1)"
   ]
  },
  {
   "cell_type": "markdown",
   "metadata": {},
   "source": [
    "XGBoost produces very similar results to the Random Forest, though interestingly its best performance was at very low parameter values."
   ]
  },
  {
   "cell_type": "markdown",
   "metadata": {},
   "source": [
    "Here, the results are displayed graphically."
   ]
  },
  {
   "cell_type": "code",
   "execution_count": 19,
   "metadata": {},
   "outputs": [
    {
     "data": {
      "image/png": "[encoded data removed]",
      "text/plain": [
       "<Figure size 720x576 with 1 Axes>"
      ]
     },
     "metadata": {},
     "output_type": "display_data"
    }
   ],
   "source": [
    "sns.set(rc={'figure.figsize':(10,8)})\n",
    "\n",
    "results = pd.DataFrame()\n",
    "results = results.append([{'Classifier':'Logistic','Score':0.726,'Metric':'Accuracy'},\n",
    "                        {'Classifier':'Logistic','Score':0.665,'Metric':'F1'},\n",
    "                        {'Classifier':'Forest','Score':0.749,'Metric':'Accuracy'},\n",
    "                        {'Classifier':'Forest','Score':0.697,'Metric':'F1'},\n",
    "                        {'Classifier':'XGBoost','Score':0.749,'Metric':'Accuracy'},\n",
    "                        {'Classifier':'XGBoost','Score':0.693,'Metric':'F1'}])\n",
    "\n",
    "\n",
    "stx = sns.barplot(x='Metric',y='Score',hue='Classifier',data=results)"
   ]
  },
  {
   "cell_type": "markdown",
   "metadata": {},
   "source": [
    "Now, I perform very similar steps to those above, but on the cascade forest graph."
   ]
  },
  {
   "cell_type": "code",
   "execution_count": 3,
   "metadata": {},
   "outputs": [],
   "source": [
    "components_100 = [a for a in nx.weakly_connected_components(graph) if len(a) > 100]"
   ]
  },
  {
   "cell_type": "code",
   "execution_count": 4,
   "metadata": {},
   "outputs": [
    {
     "data": {
      "text/plain": [
       "1295"
      ]
     },
     "execution_count": 4,
     "metadata": {},
     "output_type": "execute_result"
    }
   ],
   "source": [
    "len(components_100)"
   ]
  },
  {
   "cell_type": "code",
   "execution_count": 5,
   "metadata": {},
   "outputs": [],
   "source": [
    "graphs_list = []\n",
    "for component in components_100:\n",
    "    g = nx.subgraph(graph,component)\n",
    "    graphs_list.append(g)"
   ]
  },
  {
   "cell_type": "code",
   "execution_count": null,
   "metadata": {},
   "outputs": [],
   "source": [
    "forest_list = []\n",
    "trees_list = []\n",
    "for g in graphs_list:\n",
    "    nodes = [n for n in g.nodes(data=True) if n[1]['posttype'] == 'post']\n",
    "    if len(nodes) > 4:\n",
    "        print(len(nodes))\n",
    "        forest_list.append(g)\n",
    "    if len(nodes) == 1:\n",
    "        trees_list.append(g)"
   ]
  },
  {
   "cell_type": "markdown",
   "metadata": {},
   "source": [
    "After filtering for forests with at least 100 nodes, and at least 5 parent nodes (original posts), the list is far smaller than that of the trees, with only 167 entries."
   ]
  },
  {
   "cell_type": "code",
   "execution_count": 7,
   "metadata": {},
   "outputs": [
    {
     "data": {
      "text/plain": [
       "167"
      ]
     },
     "execution_count": 7,
     "metadata": {},
     "output_type": "execute_result"
    }
   ],
   "source": [
    "len(forest_list)"
   ]
  },
  {
   "cell_type": "markdown",
   "metadata": {},
   "source": [
    "I sort the forest list and extract the largest (GME) cascade, consisting of 36695 original posts and over a million nodes."
   ]
  },
  {
   "cell_type": "markdown",
   "metadata": {},
   "source": [
    "I then sort the data into folds, as before."
   ]
  },
  {
   "cell_type": "code",
   "execution_count": 7,
   "metadata": {},
   "outputs": [],
   "source": [
    "forest_list_sorted = sorted(forest_list,key=lambda k: len(k.nodes()),reverse=True)"
   ]
  },
  {
   "cell_type": "code",
   "execution_count": 8,
   "metadata": {},
   "outputs": [],
   "source": [
    "gme_forest = forest_list_sorted[0]"
   ]
  },
  {
   "cell_type": "code",
   "execution_count": 10,
   "metadata": {},
   "outputs": [],
   "source": [
    "train_forests = []\n",
    "test_forests = []\n",
    "for i in range(1,len(forest_list_sorted)):\n",
    "    if random.random() > 0.2:\n",
    "        train_forests.append(forest_list_sorted[i])\n",
    "    else:\n",
    "        test_forests.append(forest_list_sorted[i])"
   ]
  },
  {
   "cell_type": "code",
   "execution_count": 10,
   "metadata": {},
   "outputs": [],
   "source": [
    "forests_shuffled = forest_list_sorted[1:]"
   ]
  },
  {
   "cell_type": "code",
   "execution_count": 11,
   "metadata": {},
   "outputs": [],
   "source": [
    "random.shuffle(forests_shuffled)"
   ]
  },
  {
   "cell_type": "code",
   "execution_count": 12,
   "metadata": {},
   "outputs": [
    {
     "name": "stdout",
     "output_type": "stream",
     "text": [
      "314\n"
     ]
    }
   ],
   "source": [
    "print(len(forests_shuffled[0].nodes()))"
   ]
  },
  {
   "cell_type": "code",
   "execution_count": 13,
   "metadata": {},
   "outputs": [],
   "source": [
    "train_forest_folds = []\n",
    "test_forest_folds = []"
   ]
  },
  {
   "cell_type": "code",
   "execution_count": 14,
   "metadata": {},
   "outputs": [],
   "source": [
    "for i in range(5):\n",
    "    test_forest = forests_shuffled[int(np.floor(i*len(forests_shuffled)/5)):int(np.floor((i+1)*len(forests_shuffled)/5))]\n",
    "    train_forest = forests_shuffled\n",
    "    train_forest = [t for t in train_forest if t not in test_forest]\n",
    "    train_forest_folds.append(train_forest)\n",
    "    test_forest_folds.append(test_forest)"
   ]
  },
  {
   "cell_type": "code",
   "execution_count": 15,
   "metadata": {},
   "outputs": [
    {
     "data": {
      "text/plain": [
       "133"
      ]
     },
     "execution_count": 15,
     "metadata": {},
     "output_type": "execute_result"
    }
   ],
   "source": [
    "len(train_forest_folds[0])"
   ]
  },
  {
   "cell_type": "code",
   "execution_count": 11,
   "metadata": {},
   "outputs": [
    {
     "data": {
      "text/plain": [
       "132"
      ]
     },
     "execution_count": 11,
     "metadata": {},
     "output_type": "execute_result"
    }
   ],
   "source": [
    "len(train_forests)"
   ]
  },
  {
   "cell_type": "markdown",
   "metadata": {},
   "source": [
    "For the forests, I take some additional temporal features into account, including the time between posts (as opposed to all nodes), and the average time for new nodes to be added for the most quickly expanding tree within the forest."
   ]
  },
  {
   "cell_type": "code",
   "execution_count": 4,
   "metadata": {},
   "outputs": [],
   "source": [
    "def extract_features_forests(folds,start,step,step_range):\n",
    "    forest_features_list = []\n",
    "    for k in range(5):    \n",
    "        features = pd.DataFrame()\n",
    "\n",
    "        count = 0\n",
    "        for forest in folds[k]:\n",
    "            print(count)\n",
    "            f = nx.DiGraph(forest)\n",
    "            sorted_nodes = sorted([n for n in f.nodes(data=True)], key=lambda x: x[1]['time'])\n",
    "            steps = [start + i*step for i in range(step_range)]\n",
    "\n",
    "            for step in steps:\n",
    "            #for step in [1000,1250,1500,1750,2000,3000,4000,5000,6000,7000,8000,9000,10000,12000,15000,17500,20000,22000,25000,30000,35000,40000,50000,60000,70000,80000,90000,100000,125000,150000,175000,200000]:\n",
    "                if len(sorted_nodes) < step:\n",
    "                    break\n",
    "                count += 1\n",
    "                if len(sorted_nodes) > 2*step:\n",
    "                    result = 1\n",
    "                else:\n",
    "                    result = 0\n",
    "                f_step = nx.DiGraph(nx.subgraph(f,[n[0] for n in sorted_nodes[:step]]))\n",
    "                f_step_d = nx.DiGraph(nx.subgraph(f,[n[0] for n in sorted_nodes[:step]]))\n",
    "                posts = [n for n in f_step.nodes(data=True) if n[1]['posttype'] == 'post']\n",
    "\n",
    "                sorted_posts = sorted(posts,key=lambda k: k[1]['time'])\n",
    "                if len(sorted_posts) == 1:\n",
    "                    time_between_posts = None\n",
    "                    time_between_latest_posts = None\n",
    "                else:\n",
    "                    time_between_posts = np.mean([sorted_posts[i][1]['time'] - sorted_posts[i-1][1]['time'] for i in range(1,len(sorted_posts))])\n",
    "                    time_between_latest_posts = sorted_posts[-1][1]['time'] - sorted_posts[-2][1]['time']\n",
    "                for post1 in posts:\n",
    "                    for post2 in posts:\n",
    "                        if f_step_d.has_edge(post1[0],post2[0]):\n",
    "                            f_step_d.remove_edge(post1[0],post2[0])\n",
    "\n",
    "                all_nodes_first_half = sorted_nodes[:int(np.floor(step/2))]\n",
    "                all_nodes_second_half = sorted_nodes[int(np.floor(step/2)):step]\n",
    "\n",
    "                avg_time_first_half_all = np.mean([all_nodes_first_half[i][1]['time'] - all_nodes_first_half[i-1][1]['time'] for i in range(1,len(all_nodes_first_half))])\n",
    "\n",
    "                avg_time_second_half_all = np.mean([all_nodes_second_half[i][1]['time'] - all_nodes_second_half[i-1][1]['time'] for i in range(1,len(all_nodes_second_half))])\n",
    "                print(avg_time_second_half_all)\n",
    "                ratio_all = avg_time_second_half_all / avg_time_first_half_all\n",
    "\n",
    "                all_nodes_first_q = sorted_nodes[:int(np.floor(step/4))]\n",
    "                all_nodes_second_q = sorted_nodes[int(np.floor(step/4)):int(2*np.floor(step/4))]\n",
    "                all_nodes_third_q = sorted_nodes[int(2*np.floor(step/4)):int(3*np.floor(step/4))]\n",
    "                all_nodes_fourth_q = sorted_nodes[int(3*np.floor(step/4)):step]\n",
    "\n",
    "                avg_time_first_q_all = np.mean([all_nodes_first_q[i][1]['time'] - all_nodes_first_q[i-1][1]['time'] for i in range(1,len(all_nodes_first_q))])\n",
    "                avg_time_second_q_all = np.mean([all_nodes_second_q[i][1]['time'] - all_nodes_second_q[i-1][1]['time'] for i in range(1,len(all_nodes_second_q))])\n",
    "                avg_time_third_q_all = np.mean([all_nodes_third_q[i][1]['time'] - all_nodes_third_q[i-1][1]['time'] for i in range(1,len(all_nodes_third_q))])\n",
    "                avg_time_fourth_q_all = np.mean([all_nodes_fourth_q[i][1]['time'] - all_nodes_fourth_q[i-1][1]['time'] for i in range(1,len(all_nodes_fourth_q))])\n",
    "                ratio_43 = avg_time_fourth_q_all/avg_time_third_q_all\n",
    "                ratio_42 = avg_time_fourth_q_all/avg_time_second_q_all\n",
    "                ratio_41 = avg_time_fourth_q_all/avg_time_first_q_all\n",
    "\n",
    "                all_nodes_first_10 = sorted_nodes[:int(np.floor(step/10))]\n",
    "                all_nodes_second_10 = sorted_nodes[int(np.floor(step/10)):int(2*np.floor(step/10))]\n",
    "                all_nodes_third_10 = sorted_nodes[int(2*np.floor(step/10)):int(3*np.floor(step/10))]\n",
    "                all_nodes_fourth_10 = sorted_nodes[int(3*np.floor(step/10)):int(4*np.floor(step/10))]\n",
    "                all_nodes_fifth_10 = sorted_nodes[int(4*np.floor(step/10)):int(5*np.floor(step/10))]\n",
    "                all_nodes_sixth_10 = sorted_nodes[int(5*np.floor(step/10)):int(6*np.floor(step/10))]\n",
    "                all_nodes_seventh_10 = sorted_nodes[int(6*np.floor(step/10)):int(7*np.floor(step/10))]\n",
    "                all_nodes_eighth_10 = sorted_nodes[int(7*np.floor(step/10)):int(8*np.floor(step/10))]\n",
    "                all_nodes_ninth_10 = sorted_nodes[int(8*np.floor(step/10)):int(9*np.floor(step/10))]\n",
    "                all_nodes_last_10 = sorted_nodes[int(9*np.floor(step/10)):step]\n",
    "\n",
    "                avg_time_first_10_all = np.mean([all_nodes_first_10[i][1]['time'] - all_nodes_first_10[i-1][1]['time'] for i in range(1,len(all_nodes_first_10))])\n",
    "                avg_time_second_10_all = np.mean([all_nodes_second_10[i][1]['time'] - all_nodes_second_10[i-1][1]['time'] for i in range(1,len(all_nodes_second_10))])\n",
    "                avg_time_third_10_all = np.mean([all_nodes_third_10[i][1]['time'] - all_nodes_third_10[i-1][1]['time'] for i in range(1,len(all_nodes_third_10))])\n",
    "                avg_time_fourth_10_all = np.mean([all_nodes_fourth_10[i][1]['time'] - all_nodes_fourth_10[i-1][1]['time'] for i in range(1,len(all_nodes_fourth_10))])\n",
    "                avg_time_fifth_10_all = np.mean([all_nodes_fifth_10[i][1]['time'] - all_nodes_fifth_10[i-1][1]['time'] for i in range(1,len(all_nodes_fifth_10))])\n",
    "                avg_time_sixth_10_all = np.mean([all_nodes_sixth_10[i][1]['time'] - all_nodes_sixth_10[i-1][1]['time'] for i in range(1,len(all_nodes_sixth_10))])\n",
    "                avg_time_seventh_10_all = np.mean([all_nodes_seventh_10[i][1]['time'] - all_nodes_seventh_10[i-1][1]['time'] for i in range(1,len(all_nodes_seventh_10))])\n",
    "                avg_time_eighth_10_all = np.mean([all_nodes_eighth_10[i][1]['time'] - all_nodes_eighth_10[i-1][1]['time'] for i in range(1,len(all_nodes_eighth_10))])\n",
    "                avg_time_ninth_10_all = np.mean([all_nodes_ninth_10[i][1]['time'] - all_nodes_ninth_10[i-1][1]['time'] for i in range(1,len(all_nodes_ninth_10))])\n",
    "                avg_time_last_10_all = np.mean([all_nodes_last_10[i][1]['time'] - all_nodes_last_10[i-1][1]['time'] for i in range(1,len(all_nodes_last_10))])\n",
    "\n",
    "                ratio_109 = avg_time_last_10_all/avg_time_ninth_10_all\n",
    "                ratio_108 = avg_time_last_10_all/avg_time_eighth_10_all\n",
    "                ratio_106 = avg_time_last_10_all/avg_time_sixth_10_all\n",
    "                ratio_101 = avg_time_last_10_all/avg_time_first_10_all\n",
    "\n",
    "\n",
    "                comps = [a for a in nx.weakly_connected_components(f_step_d)]\n",
    "                temp_list = []\n",
    "                for component in comps:\n",
    "                    g = nx.subgraph(f_step_d,component)\n",
    "                    temp_list.append(g)\n",
    "                max_graph_size = 0\n",
    "                avg_graph_size = 0\n",
    "                for g in temp_list:\n",
    "                    if len(g.nodes()) > max_graph_size:\n",
    "                        max_graph_size = len(g.nodes())\n",
    "                    avg_graph_size = avg_graph_size + len(g.nodes())\n",
    "                avg_graph_size = avg_graph_size/len(temp_list)\n",
    "                num_trees = len(temp_list)\n",
    "\n",
    "                avg_time_all_graphs = 0\n",
    "                avg_time_fastest_graph = 500000\n",
    "                avg_time_fastest_graph_first_half = 500000\n",
    "                avg_time_fastest_graph_second_half = 500000\n",
    "                fastest_ratio = 1\n",
    "                graphcount = 0\n",
    "                for g in temp_list:\n",
    "                    if len(g) < 4:\n",
    "                        continue\n",
    "                    graphcount += 1\n",
    "                    sorted_nodes_g = sorted([n for n in g.nodes(data=True)], key=lambda x: x[1]['time'])\n",
    "                    avg_time_g = np.mean([sorted_nodes_g[i][1]['time'] - sorted_nodes_g[i-1][1]['time'] for i in range(1,len(sorted_nodes_g))])\n",
    "                    #print(avg_time_g)\n",
    "                    if avg_time_fastest_graph > avg_time_g:\n",
    "                        avg_time_fastest_graph = avg_time_g\n",
    "                    avg_time_all_graphs += avg_time_g\n",
    "                    sorted_nodes_first_half = sorted_nodes_g[:int(np.floor(len(sorted_nodes_g)/2))]\n",
    "                    avg_time_first_half_g = np.mean([sorted_nodes_first_half[i][1]['time'] - sorted_nodes_first_half[i-1][1]['time'] for i in range(1,len(sorted_nodes_first_half))])\n",
    "\n",
    "                    sorted_nodes_second_half = sorted_nodes_g[int(np.floor(len(sorted_nodes_g)/2)):]\n",
    "                    avg_time_second_half_g = np.mean([sorted_nodes_second_half[i][1]['time'] - sorted_nodes_second_half[i-1][1]['time'] for i in range(1,len(sorted_nodes_second_half))])\n",
    "                    if avg_time_fastest_graph_second_half > avg_time_second_half_g:\n",
    "                        avg_time_fastest_graph_second_half = avg_time_second_half_g\n",
    "                        avg_time_fastest_graph_first_half = avg_time_first_half_g\n",
    "                        fastest_ratio = avg_time_fastest_graph_second_half/avg_time_fastest_graph_first_half\n",
    "                avg_time_all_graphs = avg_time_all_graphs/graphcount\n",
    "                num_active_trees = graphcount\n",
    "                ratio_active_trees = graphcount/len(temp_list)\n",
    "                ratio_avg_graph_size = avg_graph_size/step\n",
    "                ratio_max_graph_size = max_graph_size/step\n",
    "\n",
    "                if len(sorted_nodes) > 200000:\n",
    "                    continue\n",
    "                    #gme_forest = gme_forest.append({'ratio_42':ratio_42,'ratio_41':ratio_41,'avg_time_first_half_all':avg_time_first_half_all,'avg_time_second_half_all':avg_time_second_half_all,\n",
    "                       #                             'ratio_all':ratio_all,'avg_time_third_q_all':avg_time_third_q_all,'avg_time_fourth_q_all':avg_time_fourth_q_all,'ratio_43':ratio_43,\n",
    "                        #'ratio_avg_graph_size':ratio_avg_graph_size,'ratio_max_graph_size':ratio_max_graph_size,'num_nodes':step,'num_trees':num_trees,'avg_graph_size':avg_graph_size,'max_graph_size':max_graph_size,'avg_time_all_graphs':avg_time_all_graphs,\n",
    "                                               #    'avg_time_fastest_graph':avg_time_fastest_graph,'avg_time_fastest_graph_first_half':avg_time_fastest_graph_first_half,\n",
    "                                                 #  'avg_time_fastest_graph_second_half':avg_time_fastest_graph_second_half,'fastest_ratio':fastest_ratio,'num_active_trees':num_active_trees,\n",
    "                                                  # 'ratio_active_trees':ratio_active_trees,'time_between_posts':time_between_posts,'time_between_latest_posts':time_between_latest_posts,'class':result},ignore_index=True)\n",
    "                else:\n",
    "                    features = features.append({'avg_time_last_10_all':avg_time_last_10_all,'avg_time_ninth_10_all':avg_time_ninth_10_all,\n",
    "                                                                  'avg_time_eighth_10_all':avg_time_eighth_10_all,'ratio_109':ratio_109,'ratio_108':ratio_108,'ratio_106':ratio_106,'ratio_101':ratio_101,\n",
    "                        'ratio_42':ratio_42,'ratio_41':ratio_41,'avg_time_first_half_all':avg_time_first_half_all,'avg_time_second_half_all':avg_time_second_half_all,\n",
    "                                                    'ratio_all':ratio_all,'avg_time_third_q_all':avg_time_third_q_all,'avg_time_fourth_q_all':avg_time_fourth_q_all,'ratio_43':ratio_43,\n",
    "                        'avg_time_all_graphs':avg_time_all_graphs,\n",
    "                                                   'avg_time_fastest_graph':avg_time_fastest_graph,'avg_time_fastest_graph_first_half':avg_time_fastest_graph_first_half,\n",
    "                                                   'avg_time_fastest_graph_second_half':avg_time_fastest_graph_second_half,'fastest_ratio':fastest_ratio,\n",
    "                                                   'time_between_posts':time_between_posts,'time_between_latest_posts':time_between_latest_posts,'class':result},ignore_index=True)\n",
    "\n",
    "        forest_features_list.append(features)\n",
    "    return forest_features_list"
   ]
  },
  {
   "cell_type": "code",
   "execution_count": null,
   "metadata": {},
   "outputs": [],
   "source": [
    "train_forest_features_list = extract_features_forests(train_forest_folds,100,100,600)\n",
    "pkl.dump(train_forest_features_list,open('train_forest_features_list.pkl','wb'))"
   ]
  },
  {
   "cell_type": "code",
   "execution_count": null,
   "metadata": {},
   "outputs": [],
   "source": [
    "pkl.dump(train_forest_features_list,open('train_forest_features_list.pkl','wb'))"
   ]
  },
  {
   "cell_type": "code",
   "execution_count": 18,
   "metadata": {},
   "outputs": [],
   "source": [
    "test_forest_features_list = extract_features_forests(test_forest_folds,100,100,600)"
   ]
  },
  {
   "cell_type": "code",
   "execution_count": null,
   "metadata": {},
   "outputs": [],
   "source": [
    "pkl.dump(test_forest_features_list,open('test_forest_features_list.pkl','wb'))"
   ]
  },
  {
   "cell_type": "code",
   "execution_count": null,
   "metadata": {},
   "outputs": [],
   "source": [
    "gme_features = pd.DataFrame()\n",
    "\n",
    "count = 0\n",
    "gme_list = []\n",
    "gme_list.append(gme_forest)\n",
    "for forest in gme_list:\n",
    "    print(count)\n",
    "    f = forest\n",
    "    sorted_nodes = sorted([n for n in f.nodes(data=True)], key=lambda x: x[1]['time'])\n",
    "    if len(sorted_nodes) < 500000:\n",
    "        continue\n",
    "    steps = [10000 + i*10000 for i in range(80)]\n",
    "    \n",
    "    for step in steps:\n",
    "    #for step in [1000,1250,1500,1750,2000,3000,4000,5000,6000,7000,8000,9000,10000,12000,15000,17500,20000,22000,25000,30000,35000,40000,50000,60000,70000,80000,90000,100000,125000,150000,175000,200000]:\n",
    "        if len(sorted_nodes) < step:\n",
    "            break\n",
    "        count += 1\n",
    "        if len(sorted_nodes) > 2*step:\n",
    "            result = 1\n",
    "        else:\n",
    "            result = 0\n",
    "        f_step = nx.DiGraph(nx.subgraph(f,[n[0] for n in sorted_nodes[:step]]))\n",
    "        f_step_d = nx.DiGraph(nx.subgraph(f,[n[0] for n in sorted_nodes[:step]]))\n",
    "        posts = [n for n in f_step.nodes(data=True) if n[1]['posttype'] == 'post']\n",
    "        \n",
    "        sorted_posts = sorted(posts,key=lambda k: k[1]['time'])\n",
    "        if len(sorted_posts) == 1:\n",
    "            time_between_posts = None\n",
    "            time_between_latest_posts = None\n",
    "        else:\n",
    "            time_between_posts = np.mean([sorted_posts[i][1]['time'] - sorted_posts[i-1][1]['time'] for i in range(1,len(sorted_posts))])\n",
    "            time_between_latest_posts = sorted_posts[-1][1]['time'] - sorted_posts[-2][1]['time']\n",
    "        for post1 in posts:\n",
    "            for post2 in posts:\n",
    "                if f_step_d.has_edge(post1[0],post2[0]):\n",
    "                    f_step_d.remove_edge(post1[0],post2[0])\n",
    "                    \n",
    "        all_nodes_first_half = sorted_nodes[:int(np.floor(step/2))]\n",
    "        all_nodes_second_half = sorted_nodes[int(np.floor(step/2)):step]\n",
    "        \n",
    "        avg_time_first_half_all = np.mean([all_nodes_first_half[i][1]['time'] - all_nodes_first_half[i-1][1]['time'] for i in range(1,len(all_nodes_first_half))])\n",
    "        \n",
    "        avg_time_second_half_all = np.mean([all_nodes_second_half[i][1]['time'] - all_nodes_second_half[i-1][1]['time'] for i in range(1,len(all_nodes_second_half))])\n",
    "        print(avg_time_second_half_all)\n",
    "        ratio_all = avg_time_second_half_all / avg_time_first_half_all\n",
    "        \n",
    "        all_nodes_first_q = sorted_nodes[:int(np.floor(step/4))]\n",
    "        all_nodes_second_q = sorted_nodes[int(np.floor(step/4)):int(2*np.floor(step/4))]\n",
    "        all_nodes_third_q = sorted_nodes[int(2*np.floor(step/4)):int(3*np.floor(step/4))]\n",
    "        all_nodes_fourth_q = sorted_nodes[int(3*np.floor(step/4)):step]\n",
    "        \n",
    "        avg_time_first_q_all = np.mean([all_nodes_first_q[i][1]['time'] - all_nodes_first_q[i-1][1]['time'] for i in range(1,len(all_nodes_first_q))])\n",
    "        avg_time_second_q_all = np.mean([all_nodes_second_q[i][1]['time'] - all_nodes_second_q[i-1][1]['time'] for i in range(1,len(all_nodes_second_q))])\n",
    "        avg_time_third_q_all = np.mean([all_nodes_third_q[i][1]['time'] - all_nodes_third_q[i-1][1]['time'] for i in range(1,len(all_nodes_third_q))])\n",
    "        avg_time_fourth_q_all = np.mean([all_nodes_fourth_q[i][1]['time'] - all_nodes_fourth_q[i-1][1]['time'] for i in range(1,len(all_nodes_fourth_q))])\n",
    "        ratio_43 = avg_time_fourth_q_all/avg_time_third_q_all\n",
    "        ratio_42 = avg_time_fourth_q_all/avg_time_second_q_all\n",
    "        ratio_41 = avg_time_fourth_q_all/avg_time_first_q_all\n",
    "        \n",
    "        all_nodes_first_10 = sorted_nodes[:int(np.floor(step/10))]\n",
    "        all_nodes_second_10 = sorted_nodes[int(np.floor(step/10)):int(2*np.floor(step/10))]\n",
    "        all_nodes_third_10 = sorted_nodes[int(2*np.floor(step/10)):int(3*np.floor(step/10))]\n",
    "        all_nodes_fourth_10 = sorted_nodes[int(3*np.floor(step/10)):int(4*np.floor(step/10))]\n",
    "        all_nodes_fifth_10 = sorted_nodes[int(4*np.floor(step/10)):int(5*np.floor(step/10))]\n",
    "        all_nodes_sixth_10 = sorted_nodes[int(5*np.floor(step/10)):int(6*np.floor(step/10))]\n",
    "        all_nodes_seventh_10 = sorted_nodes[int(6*np.floor(step/10)):int(7*np.floor(step/10))]\n",
    "        all_nodes_eighth_10 = sorted_nodes[int(7*np.floor(step/10)):int(8*np.floor(step/10))]\n",
    "        all_nodes_ninth_10 = sorted_nodes[int(8*np.floor(step/10)):int(9*np.floor(step/10))]\n",
    "        all_nodes_last_10 = sorted_nodes[int(9*np.floor(step/10)):step]\n",
    "                                                                       \n",
    "        avg_time_first_10_all = np.mean([all_nodes_first_10[i][1]['time'] - all_nodes_first_10[i-1][1]['time'] for i in range(1,len(all_nodes_first_10))])\n",
    "        avg_time_second_10_all = np.mean([all_nodes_second_10[i][1]['time'] - all_nodes_second_10[i-1][1]['time'] for i in range(1,len(all_nodes_second_10))])\n",
    "        avg_time_third_10_all = np.mean([all_nodes_third_10[i][1]['time'] - all_nodes_third_10[i-1][1]['time'] for i in range(1,len(all_nodes_third_10))])\n",
    "        avg_time_fourth_10_all = np.mean([all_nodes_fourth_10[i][1]['time'] - all_nodes_fourth_10[i-1][1]['time'] for i in range(1,len(all_nodes_fourth_10))])\n",
    "        avg_time_fifth_10_all = np.mean([all_nodes_fifth_10[i][1]['time'] - all_nodes_fifth_10[i-1][1]['time'] for i in range(1,len(all_nodes_fifth_10))])\n",
    "        avg_time_sixth_10_all = np.mean([all_nodes_sixth_10[i][1]['time'] - all_nodes_sixth_10[i-1][1]['time'] for i in range(1,len(all_nodes_sixth_10))])\n",
    "        avg_time_seventh_10_all = np.mean([all_nodes_seventh_10[i][1]['time'] - all_nodes_seventh_10[i-1][1]['time'] for i in range(1,len(all_nodes_seventh_10))])\n",
    "        avg_time_eighth_10_all = np.mean([all_nodes_eighth_10[i][1]['time'] - all_nodes_eighth_10[i-1][1]['time'] for i in range(1,len(all_nodes_eighth_10))])\n",
    "        avg_time_ninth_10_all = np.mean([all_nodes_ninth_10[i][1]['time'] - all_nodes_ninth_10[i-1][1]['time'] for i in range(1,len(all_nodes_ninth_10))])\n",
    "        avg_time_last_10_all = np.mean([all_nodes_last_10[i][1]['time'] - all_nodes_last_10[i-1][1]['time'] for i in range(1,len(all_nodes_last_10))])\n",
    "        \n",
    "        ratio_109 = avg_time_last_10_all/avg_time_ninth_10_all\n",
    "        ratio_108 = avg_time_last_10_all/avg_time_eighth_10_all\n",
    "        ratio_106 = avg_time_last_10_all/avg_time_sixth_10_all\n",
    "        ratio_101 = avg_time_last_10_all/avg_time_first_10_all\n",
    "                    \n",
    "        \n",
    "        comps = [a for a in nx.weakly_connected_components(f_step_d)]\n",
    "        temp_list = []\n",
    "        for component in comps:\n",
    "            g = nx.subgraph(f_step_d,component)\n",
    "            temp_list.append(g)\n",
    "        max_graph_size = 0\n",
    "        avg_graph_size = 0\n",
    "        for g in temp_list:\n",
    "            if len(g.nodes()) > max_graph_size:\n",
    "                max_graph_size = len(g.nodes())\n",
    "            avg_graph_size = avg_graph_size + len(g.nodes())\n",
    "        avg_graph_size = avg_graph_size/len(temp_list)\n",
    "        num_trees = len(temp_list)\n",
    "        \n",
    "        avg_time_all_graphs = 0\n",
    "        avg_time_fastest_graph = 500000\n",
    "        avg_time_fastest_graph_first_half = 500000\n",
    "        avg_time_fastest_graph_second_half = 500000\n",
    "        fastest_ratio = 1\n",
    "        graphcount = 0\n",
    "        for g in temp_list:\n",
    "            if len(g) < 4:\n",
    "                continue\n",
    "            graphcount += 1\n",
    "            sorted_nodes_g = sorted([n for n in g.nodes(data=True)], key=lambda x: x[1]['time'])\n",
    "            avg_time_g = np.mean([sorted_nodes_g[i][1]['time'] - sorted_nodes_g[i-1][1]['time'] for i in range(1,len(sorted_nodes_g))])\n",
    "            #print(avg_time_g)\n",
    "            if avg_time_fastest_graph > avg_time_g:\n",
    "                avg_time_fastest_graph = avg_time_g\n",
    "            avg_time_all_graphs += avg_time_g\n",
    "            sorted_nodes_first_half = sorted_nodes_g[:int(np.floor(len(sorted_nodes_g)/2))]\n",
    "            avg_time_first_half_g = np.mean([sorted_nodes_first_half[i][1]['time'] - sorted_nodes_first_half[i-1][1]['time'] for i in range(1,len(sorted_nodes_first_half))])\n",
    "            \n",
    "            sorted_nodes_second_half = sorted_nodes_g[int(np.floor(len(sorted_nodes_g)/2)):]\n",
    "            avg_time_second_half_g = np.mean([sorted_nodes_second_half[i][1]['time'] - sorted_nodes_second_half[i-1][1]['time'] for i in range(1,len(sorted_nodes_second_half))])\n",
    "            if avg_time_fastest_graph_second_half > avg_time_second_half_g:\n",
    "                avg_time_fastest_graph_second_half = avg_time_second_half_g\n",
    "                avg_time_fastest_graph_first_half = avg_time_first_half_g\n",
    "                fastest_ratio = avg_time_fastest_graph_second_half/avg_time_fastest_graph_first_half\n",
    "        avg_time_all_graphs = avg_time_all_graphs/graphcount\n",
    "        num_active_trees = graphcount\n",
    "        ratio_active_trees = graphcount/len(temp_list)\n",
    "        ratio_avg_graph_size = avg_graph_size/step\n",
    "        ratio_max_graph_size = max_graph_size/step\n",
    "        \n",
    "        if len(sorted_nodes) > 500000:\n",
    "            gme_features = gme_features.append({'avg_time_last_10_all':avg_time_last_10_all,'avg_time_ninth_10_all':avg_time_ninth_10_all,\n",
    "                                                          'avg_time_eighth_10_all':avg_time_eighth_10_all,'ratio_109':ratio_109,'ratio_108':ratio_108,'ratio_106':ratio_106,'ratio_101':ratio_101,\n",
    "                'ratio_42':ratio_42,'ratio_41':ratio_41,'avg_time_first_half_all':avg_time_first_half_all,'avg_time_second_half_all':avg_time_second_half_all,\n",
    "                                            'ratio_all':ratio_all,'avg_time_third_q_all':avg_time_third_q_all,'avg_time_fourth_q_all':avg_time_fourth_q_all,'ratio_43':ratio_43,\n",
    "                'avg_time_all_graphs':avg_time_all_graphs,\n",
    "                                           'avg_time_fastest_graph':avg_time_fastest_graph,'avg_time_fastest_graph_first_half':avg_time_fastest_graph_first_half,\n",
    "                                           'avg_time_fastest_graph_second_half':avg_time_fastest_graph_second_half,'fastest_ratio':fastest_ratio,\n",
    "                                           'time_between_posts':time_between_posts,'time_between_latest_posts':time_between_latest_posts,'class':result},ignore_index=True)"
   ]
  },
  {
   "cell_type": "code",
   "execution_count": 10,
   "metadata": {},
   "outputs": [],
   "source": [
    "gme_features.to_csv('gme_features.csv')"
   ]
  },
  {
   "cell_type": "code",
   "execution_count": 11,
   "metadata": {},
   "outputs": [],
   "source": [
    "train_forest_features_list = pkl.load(open('train_forest_features_list.pkl','rb'))\n",
    "test_forest_features_list = pkl.load(open('test_forest_features_list.pkl','rb'))"
   ]
  },
  {
   "cell_type": "markdown",
   "metadata": {},
   "source": [
    "The train and test sets are a lot smaller than for the tree data, but a much more respectable size than before, after extracting multiple data points for each forest."
   ]
  },
  {
   "cell_type": "code",
   "execution_count": 142,
   "metadata": {},
   "outputs": [
    {
     "name": "stdout",
     "output_type": "stream",
     "text": [
      "(3143, 23)\n",
      "(322, 23)\n"
     ]
    }
   ],
   "source": [
    "print(train_forest_features_list[0].shape)\n",
    "print(test_forest_features_list[0].shape)"
   ]
  },
  {
   "cell_type": "markdown",
   "metadata": {},
   "source": [
    "I fill possible NaN values for two of the features with the column means."
   ]
  },
  {
   "cell_type": "code",
   "execution_count": 12,
   "metadata": {},
   "outputs": [],
   "source": [
    "for i in range(5):\n",
    "    train_forest_features_list[i]['time_between_latest_posts'].fillna(value=train_forest_features_list[i]['time_between_latest_posts'].mean(), inplace=True)\n",
    "    train_forest_features_list[i]['time_between_posts'].fillna(value=train_forest_features_list[i]['time_between_posts'].mean(), inplace=True)\n",
    "    test_forest_features_list[i]['time_between_latest_posts'].fillna(value=test_forest_features_list[i]['time_between_latest_posts'].mean(), inplace=True)\n",
    "    test_forest_features_list[i]['time_between_posts'].fillna(value=test_forest_features_list[i]['time_between_posts'].mean(), inplace=True)"
   ]
  },
  {
   "cell_type": "code",
   "execution_count": 13,
   "metadata": {},
   "outputs": [],
   "source": [
    "for i in range(5):\n",
    "    train_forest_features_list[i]['result'] = train_forest_features_list[i]['class']\n",
    "    train_forest_features_list[i] = train_forest_features_list[i].drop('class',axis=1)\n",
    "    test_forest_features_list[i]['result'] = test_forest_features_list[i]['class']\n",
    "    test_forest_features_list[i] = test_forest_features_list[i].drop('class',axis=1)"
   ]
  },
  {
   "cell_type": "code",
   "execution_count": 47,
   "metadata": {},
   "outputs": [],
   "source": [
    "gme_features = pd.read_csv('gme_features.csv',index_col=0)"
   ]
  },
  {
   "cell_type": "code",
   "execution_count": 117,
   "metadata": {},
   "outputs": [
    {
     "data": {
      "text/html": [
       "<div>\n",
       "<style scoped>\n",
       "    .dataframe tbody tr th:only-of-type {\n",
       "        vertical-align: middle;\n",
       "    }\n",
       "\n",
       "    .dataframe tbody tr th {\n",
       "        vertical-align: top;\n",
       "    }\n",
       "\n",
       "    .dataframe thead th {\n",
       "        text-align: right;\n",
       "    }\n",
       "</style>\n",
       "<table border=\"1\" class=\"dataframe\">\n",
       "  <thead>\n",
       "    <tr style=\"text-align: right;\">\n",
       "      <th></th>\n",
       "      <th>avg_time_all_graphs</th>\n",
       "      <th>avg_time_eighth_10_all</th>\n",
       "      <th>avg_time_fastest_graph</th>\n",
       "      <th>avg_time_fastest_graph_first_half</th>\n",
       "      <th>avg_time_fastest_graph_second_half</th>\n",
       "      <th>avg_time_first_half_all</th>\n",
       "      <th>avg_time_fourth_q_all</th>\n",
       "      <th>avg_time_last_10_all</th>\n",
       "      <th>avg_time_ninth_10_all</th>\n",
       "      <th>avg_time_second_half_all</th>\n",
       "      <th>...</th>\n",
       "      <th>ratio_106</th>\n",
       "      <th>ratio_108</th>\n",
       "      <th>ratio_109</th>\n",
       "      <th>ratio_41</th>\n",
       "      <th>ratio_42</th>\n",
       "      <th>ratio_43</th>\n",
       "      <th>ratio_all</th>\n",
       "      <th>time_between_latest_posts</th>\n",
       "      <th>time_between_posts</th>\n",
       "      <th>result</th>\n",
       "    </tr>\n",
       "  </thead>\n",
       "  <tbody>\n",
       "    <tr>\n",
       "      <th>0</th>\n",
       "      <td>487.047191</td>\n",
       "      <td>4.506507</td>\n",
       "      <td>5.904011</td>\n",
       "      <td>3.905172</td>\n",
       "      <td>7.885387</td>\n",
       "      <td>37.414683</td>\n",
       "      <td>3.467387</td>\n",
       "      <td>2.939940</td>\n",
       "      <td>3.411411</td>\n",
       "      <td>3.588518</td>\n",
       "      <td>...</td>\n",
       "      <td>0.915809</td>\n",
       "      <td>0.652377</td>\n",
       "      <td>0.861796</td>\n",
       "      <td>0.048054</td>\n",
       "      <td>1.290010</td>\n",
       "      <td>0.934433</td>\n",
       "      <td>0.095912</td>\n",
       "      <td>228.0</td>\n",
       "      <td>832.975610</td>\n",
       "      <td>1.0</td>\n",
       "    </tr>\n",
       "    <tr>\n",
       "      <th>1</th>\n",
       "      <td>944.327793</td>\n",
       "      <td>12.462731</td>\n",
       "      <td>21.760000</td>\n",
       "      <td>32.250000</td>\n",
       "      <td>12.916667</td>\n",
       "      <td>20.500850</td>\n",
       "      <td>5.820164</td>\n",
       "      <td>3.941471</td>\n",
       "      <td>5.449725</td>\n",
       "      <td>6.875288</td>\n",
       "      <td>...</td>\n",
       "      <td>0.832435</td>\n",
       "      <td>0.316261</td>\n",
       "      <td>0.723242</td>\n",
       "      <td>0.155558</td>\n",
       "      <td>1.621885</td>\n",
       "      <td>0.733796</td>\n",
       "      <td>0.335366</td>\n",
       "      <td>8.0</td>\n",
       "      <td>598.875274</td>\n",
       "      <td>1.0</td>\n",
       "    </tr>\n",
       "    <tr>\n",
       "      <th>2</th>\n",
       "      <td>819.063526</td>\n",
       "      <td>3.117372</td>\n",
       "      <td>17.659692</td>\n",
       "      <td>56.000000</td>\n",
       "      <td>11.000000</td>\n",
       "      <td>16.310621</td>\n",
       "      <td>2.910521</td>\n",
       "      <td>2.899633</td>\n",
       "      <td>2.915639</td>\n",
       "      <td>3.907527</td>\n",
       "      <td>...</td>\n",
       "      <td>0.410111</td>\n",
       "      <td>0.930153</td>\n",
       "      <td>0.994511</td>\n",
       "      <td>0.111174</td>\n",
       "      <td>0.451697</td>\n",
       "      <td>0.593436</td>\n",
       "      <td>0.239569</td>\n",
       "      <td>53.0</td>\n",
       "      <td>443.982430</td>\n",
       "      <td>1.0</td>\n",
       "    </tr>\n",
       "    <tr>\n",
       "      <th>3</th>\n",
       "      <td>873.487892</td>\n",
       "      <td>2.855464</td>\n",
       "      <td>17.602778</td>\n",
       "      <td>56.000000</td>\n",
       "      <td>11.000000</td>\n",
       "      <td>13.687634</td>\n",
       "      <td>4.548755</td>\n",
       "      <td>5.725681</td>\n",
       "      <td>4.194549</td>\n",
       "      <td>3.750038</td>\n",
       "      <td>...</td>\n",
       "      <td>1.897489</td>\n",
       "      <td>2.005167</td>\n",
       "      <td>1.365029</td>\n",
       "      <td>0.221881</td>\n",
       "      <td>0.661609</td>\n",
       "      <td>1.541117</td>\n",
       "      <td>0.273973</td>\n",
       "      <td>344.0</td>\n",
       "      <td>392.249719</td>\n",
       "      <td>1.0</td>\n",
       "    </tr>\n",
       "    <tr>\n",
       "      <th>4</th>\n",
       "      <td>851.330650</td>\n",
       "      <td>5.805561</td>\n",
       "      <td>21.000000</td>\n",
       "      <td>56.000000</td>\n",
       "      <td>11.000000</td>\n",
       "      <td>11.539782</td>\n",
       "      <td>3.596128</td>\n",
       "      <td>3.697339</td>\n",
       "      <td>3.119624</td>\n",
       "      <td>3.774191</td>\n",
       "      <td>...</td>\n",
       "      <td>1.251557</td>\n",
       "      <td>0.636862</td>\n",
       "      <td>1.185188</td>\n",
       "      <td>0.206083</td>\n",
       "      <td>0.638702</td>\n",
       "      <td>0.909842</td>\n",
       "      <td>0.327059</td>\n",
       "      <td>101.0</td>\n",
       "      <td>323.297297</td>\n",
       "      <td>1.0</td>\n",
       "    </tr>\n",
       "    <tr>\n",
       "      <th>...</th>\n",
       "      <td>...</td>\n",
       "      <td>...</td>\n",
       "      <td>...</td>\n",
       "      <td>...</td>\n",
       "      <td>...</td>\n",
       "      <td>...</td>\n",
       "      <td>...</td>\n",
       "      <td>...</td>\n",
       "      <td>...</td>\n",
       "      <td>...</td>\n",
       "      <td>...</td>\n",
       "      <td>...</td>\n",
       "      <td>...</td>\n",
       "      <td>...</td>\n",
       "      <td>...</td>\n",
       "      <td>...</td>\n",
       "      <td>...</td>\n",
       "      <td>...</td>\n",
       "      <td>...</td>\n",
       "      <td>...</td>\n",
       "      <td>...</td>\n",
       "    </tr>\n",
       "    <tr>\n",
       "      <th>75</th>\n",
       "      <td>1443.593312</td>\n",
       "      <td>0.806208</td>\n",
       "      <td>4.908449</td>\n",
       "      <td>66.000000</td>\n",
       "      <td>0.000000</td>\n",
       "      <td>3.717962</td>\n",
       "      <td>0.672961</td>\n",
       "      <td>0.712207</td>\n",
       "      <td>0.444927</td>\n",
       "      <td>0.624299</td>\n",
       "      <td>...</td>\n",
       "      <td>0.842876</td>\n",
       "      <td>0.883403</td>\n",
       "      <td>1.600728</td>\n",
       "      <td>0.110701</td>\n",
       "      <td>0.495977</td>\n",
       "      <td>1.169099</td>\n",
       "      <td>0.167914</td>\n",
       "      <td>12.0</td>\n",
       "      <td>61.885384</td>\n",
       "      <td>0.0</td>\n",
       "    </tr>\n",
       "    <tr>\n",
       "      <th>76</th>\n",
       "      <td>1468.355037</td>\n",
       "      <td>0.798816</td>\n",
       "      <td>5.189719</td>\n",
       "      <td>66.000000</td>\n",
       "      <td>0.000000</td>\n",
       "      <td>3.686272</td>\n",
       "      <td>0.656954</td>\n",
       "      <td>0.711503</td>\n",
       "      <td>0.448564</td>\n",
       "      <td>0.611854</td>\n",
       "      <td>...</td>\n",
       "      <td>0.925798</td>\n",
       "      <td>0.890697</td>\n",
       "      <td>1.586178</td>\n",
       "      <td>0.108517</td>\n",
       "      <td>0.498209</td>\n",
       "      <td>1.159169</td>\n",
       "      <td>0.165982</td>\n",
       "      <td>129.0</td>\n",
       "      <td>61.695984</td>\n",
       "      <td>0.0</td>\n",
       "    </tr>\n",
       "    <tr>\n",
       "      <th>77</th>\n",
       "      <td>1480.561209</td>\n",
       "      <td>0.795664</td>\n",
       "      <td>4.792653</td>\n",
       "      <td>66.000000</td>\n",
       "      <td>0.000000</td>\n",
       "      <td>3.649463</td>\n",
       "      <td>0.627372</td>\n",
       "      <td>0.702317</td>\n",
       "      <td>0.444454</td>\n",
       "      <td>0.605394</td>\n",
       "      <td>...</td>\n",
       "      <td>0.971018</td>\n",
       "      <td>0.882680</td>\n",
       "      <td>1.580177</td>\n",
       "      <td>0.104191</td>\n",
       "      <td>0.491057</td>\n",
       "      <td>1.075367</td>\n",
       "      <td>0.165886</td>\n",
       "      <td>36.0</td>\n",
       "      <td>61.420973</td>\n",
       "      <td>0.0</td>\n",
       "    </tr>\n",
       "    <tr>\n",
       "      <th>78</th>\n",
       "      <td>1502.864086</td>\n",
       "      <td>0.790111</td>\n",
       "      <td>2.975531</td>\n",
       "      <td>66.000000</td>\n",
       "      <td>0.000000</td>\n",
       "      <td>3.608470</td>\n",
       "      <td>0.579922</td>\n",
       "      <td>0.694680</td>\n",
       "      <td>0.434259</td>\n",
       "      <td>0.603219</td>\n",
       "      <td>...</td>\n",
       "      <td>0.985526</td>\n",
       "      <td>0.879218</td>\n",
       "      <td>1.599691</td>\n",
       "      <td>0.096695</td>\n",
       "      <td>0.475545</td>\n",
       "      <td>0.925662</td>\n",
       "      <td>0.167168</td>\n",
       "      <td>1.0</td>\n",
       "      <td>61.098869</td>\n",
       "      <td>0.0</td>\n",
       "    </tr>\n",
       "    <tr>\n",
       "      <th>79</th>\n",
       "      <td>1516.639854</td>\n",
       "      <td>0.776635</td>\n",
       "      <td>2.850240</td>\n",
       "      <td>66.000000</td>\n",
       "      <td>0.000000</td>\n",
       "      <td>3.569051</td>\n",
       "      <td>0.553353</td>\n",
       "      <td>0.680646</td>\n",
       "      <td>0.441506</td>\n",
       "      <td>0.600439</td>\n",
       "      <td>...</td>\n",
       "      <td>0.993432</td>\n",
       "      <td>0.876404</td>\n",
       "      <td>1.541648</td>\n",
       "      <td>0.092532</td>\n",
       "      <td>0.477850</td>\n",
       "      <td>0.854562</td>\n",
       "      <td>0.168235</td>\n",
       "      <td>51.0</td>\n",
       "      <td>60.767098</td>\n",
       "      <td>0.0</td>\n",
       "    </tr>\n",
       "  </tbody>\n",
       "</table>\n",
       "<p>80 rows × 23 columns</p>\n",
       "</div>"
      ],
      "text/plain": [
       "    avg_time_all_graphs  avg_time_eighth_10_all  avg_time_fastest_graph  \\\n",
       "0            487.047191                4.506507                5.904011   \n",
       "1            944.327793               12.462731               21.760000   \n",
       "2            819.063526                3.117372               17.659692   \n",
       "3            873.487892                2.855464               17.602778   \n",
       "4            851.330650                5.805561               21.000000   \n",
       "..                  ...                     ...                     ...   \n",
       "75          1443.593312                0.806208                4.908449   \n",
       "76          1468.355037                0.798816                5.189719   \n",
       "77          1480.561209                0.795664                4.792653   \n",
       "78          1502.864086                0.790111                2.975531   \n",
       "79          1516.639854                0.776635                2.850240   \n",
       "\n",
       "    avg_time_fastest_graph_first_half  avg_time_fastest_graph_second_half  \\\n",
       "0                            3.905172                            7.885387   \n",
       "1                           32.250000                           12.916667   \n",
       "2                           56.000000                           11.000000   \n",
       "3                           56.000000                           11.000000   \n",
       "4                           56.000000                           11.000000   \n",
       "..                                ...                                 ...   \n",
       "75                          66.000000                            0.000000   \n",
       "76                          66.000000                            0.000000   \n",
       "77                          66.000000                            0.000000   \n",
       "78                          66.000000                            0.000000   \n",
       "79                          66.000000                            0.000000   \n",
       "\n",
       "    avg_time_first_half_all  avg_time_fourth_q_all  avg_time_last_10_all  \\\n",
       "0                 37.414683               3.467387              2.939940   \n",
       "1                 20.500850               5.820164              3.941471   \n",
       "2                 16.310621               2.910521              2.899633   \n",
       "3                 13.687634               4.548755              5.725681   \n",
       "4                 11.539782               3.596128              3.697339   \n",
       "..                      ...                    ...                   ...   \n",
       "75                 3.717962               0.672961              0.712207   \n",
       "76                 3.686272               0.656954              0.711503   \n",
       "77                 3.649463               0.627372              0.702317   \n",
       "78                 3.608470               0.579922              0.694680   \n",
       "79                 3.569051               0.553353              0.680646   \n",
       "\n",
       "    avg_time_ninth_10_all  avg_time_second_half_all  ...  ratio_106  \\\n",
       "0                3.411411                  3.588518  ...   0.915809   \n",
       "1                5.449725                  6.875288  ...   0.832435   \n",
       "2                2.915639                  3.907527  ...   0.410111   \n",
       "3                4.194549                  3.750038  ...   1.897489   \n",
       "4                3.119624                  3.774191  ...   1.251557   \n",
       "..                    ...                       ...  ...        ...   \n",
       "75               0.444927                  0.624299  ...   0.842876   \n",
       "76               0.448564                  0.611854  ...   0.925798   \n",
       "77               0.444454                  0.605394  ...   0.971018   \n",
       "78               0.434259                  0.603219  ...   0.985526   \n",
       "79               0.441506                  0.600439  ...   0.993432   \n",
       "\n",
       "    ratio_108  ratio_109  ratio_41  ratio_42  ratio_43  ratio_all  \\\n",
       "0    0.652377   0.861796  0.048054  1.290010  0.934433   0.095912   \n",
       "1    0.316261   0.723242  0.155558  1.621885  0.733796   0.335366   \n",
       "2    0.930153   0.994511  0.111174  0.451697  0.593436   0.239569   \n",
       "3    2.005167   1.365029  0.221881  0.661609  1.541117   0.273973   \n",
       "4    0.636862   1.185188  0.206083  0.638702  0.909842   0.327059   \n",
       "..        ...        ...       ...       ...       ...        ...   \n",
       "75   0.883403   1.600728  0.110701  0.495977  1.169099   0.167914   \n",
       "76   0.890697   1.586178  0.108517  0.498209  1.159169   0.165982   \n",
       "77   0.882680   1.580177  0.104191  0.491057  1.075367   0.165886   \n",
       "78   0.879218   1.599691  0.096695  0.475545  0.925662   0.167168   \n",
       "79   0.876404   1.541648  0.092532  0.477850  0.854562   0.168235   \n",
       "\n",
       "    time_between_latest_posts  time_between_posts  result  \n",
       "0                       228.0          832.975610     1.0  \n",
       "1                         8.0          598.875274     1.0  \n",
       "2                        53.0          443.982430     1.0  \n",
       "3                       344.0          392.249719     1.0  \n",
       "4                       101.0          323.297297     1.0  \n",
       "..                        ...                 ...     ...  \n",
       "75                       12.0           61.885384     0.0  \n",
       "76                      129.0           61.695984     0.0  \n",
       "77                       36.0           61.420973     0.0  \n",
       "78                        1.0           61.098869     0.0  \n",
       "79                       51.0           60.767098     0.0  \n",
       "\n",
       "[80 rows x 23 columns]"
      ]
     },
     "execution_count": 117,
     "metadata": {},
     "output_type": "execute_result"
    }
   ],
   "source": [
    "gme_features"
   ]
  },
  {
   "cell_type": "code",
   "execution_count": 14,
   "metadata": {},
   "outputs": [],
   "source": [
    "gme_features['time_between_latest_posts'].fillna(value=gme_features['time_between_latest_posts'].mean(), inplace=True)\n",
    "gme_features['time_between_posts'].fillna(value=gme_features['time_between_posts'].mean(), inplace=True)"
   ]
  },
  {
   "cell_type": "code",
   "execution_count": 15,
   "metadata": {},
   "outputs": [],
   "source": [
    "gme_features['result'] = gme_features['class']\n",
    "gme_features = gme_features.drop('class',axis=1)"
   ]
  },
  {
   "cell_type": "markdown",
   "metadata": {},
   "source": [
    "Aa before, I iterate over the data using the three different machine learning models."
   ]
  },
  {
   "cell_type": "code",
   "execution_count": 128,
   "metadata": {},
   "outputs": [
    {
     "name": "stdout",
     "output_type": "stream",
     "text": [
      "1\n",
      "0.6627026014403496\n",
      "1\n",
      "0.7056516792990732\n"
     ]
    }
   ],
   "source": [
    "best_C_acc = 1\n",
    "best_C_f1 = 1\n",
    "best_accuracy = 0\n",
    "best_f1 = 0\n",
    "\n",
    "for C in [1,0.5,0.25,0.1,0.05,0.025,0.01]:\n",
    "    av_accuracy = 0\n",
    "    av_f1 = 0\n",
    "    for i in range(5):\n",
    "        X_train = train_forest_features_list[i].iloc[:,:-1]\n",
    "        y_train = train_forest_features_list[i].iloc[:,-1]\n",
    "        X_test = test_forest_features_list[i].iloc[:,:-1]\n",
    "        y_test = test_forest_features_list[i].iloc[:,-1]\n",
    "    \n",
    "        xg = make_pipeline(StandardScaler(),LogisticRegression(C=C))\n",
    "        xg.fit(X_train,y_train)\n",
    "        y_pred = xg.predict(X_test)\n",
    "        #print(f1_score(y_test,y_pred))\n",
    "        #print(accuracy_score(y_pred,y_test))\n",
    "        av_accuracy = av_accuracy + accuracy_score(y_test,y_pred)\n",
    "        av_f1 = av_f1 + f1_score(y_test,y_pred)\n",
    "    av_accuracy = av_accuracy/5\n",
    "    av_f1 = av_f1/5\n",
    "    if av_accuracy > best_accuracy:\n",
    "        best_accuracy = av_accuracy\n",
    "        best_C_acc = C\n",
    "    if av_f1 > best_f1:\n",
    "        best_f1 = av_f1\n",
    "        best_C_f1 = C\n",
    "print(best_C_acc)\n",
    "print(best_accuracy)\n",
    "print(best_C_f1)\n",
    "print(best_f1)"
   ]
  },
  {
   "cell_type": "code",
   "execution_count": 129,
   "metadata": {},
   "outputs": [
    {
     "name": "stdout",
     "output_type": "stream",
     "text": [
      "[8, 100]\n",
      "0.6765959351443689\n",
      "[4, 50]\n",
      "0.7056945801247667\n"
     ]
    }
   ],
   "source": [
    "best_estimators_acc = [2,10]\n",
    "best_estimators_f1 = [2,10]\n",
    "best_accuracy = 0\n",
    "best_f1 = 0\n",
    "for max_depth in [2,3,4,5,6,7,8]:\n",
    "    for n_estimators in [10,50,100,200,350,500,750,1000]:\n",
    "        av_accuracy = 0\n",
    "        av_f1 = 0\n",
    "        for i in range(5):\n",
    "            X_train = train_forest_features_list[i].iloc[:,:-1]\n",
    "            y_train = train_forest_features_list[i].iloc[:,-1]\n",
    "            X_test = test_forest_features_list[i].iloc[:,:-1]\n",
    "            y_test = test_forest_features_list[i].iloc[:,-1]\n",
    "\n",
    "            xg = RandomForestClassifier(n_estimators=n_estimators,max_depth=max_depth)\n",
    "            xg.fit(X_train,y_train)\n",
    "            y_pred = xg.predict(X_test)\n",
    "            #print(f1_score(y_test,y_pred))\n",
    "            #print(accuracy_score(y_pred,y_test))\n",
    "            av_accuracy = av_accuracy + accuracy_score(y_test,y_pred)\n",
    "            av_f1 = av_f1 + f1_score(y_test,y_pred)\n",
    "        av_accuracy = av_accuracy/5\n",
    "        av_f1 = av_f1/5\n",
    "        if av_accuracy > best_accuracy:\n",
    "            best_accuracy = av_accuracy\n",
    "            best_estimators_acc = [max_depth,n_estimators]\n",
    "        if av_f1 > best_f1:\n",
    "            best_f1 = av_f1\n",
    "            best_estimators_f1 = [max_depth,n_estimators]\n",
    "print(best_estimators_acc)\n",
    "print(best_accuracy)\n",
    "print(best_estimators_f1)\n",
    "print(best_f1)"
   ]
  },
  {
   "cell_type": "code",
   "execution_count": null,
   "metadata": {},
   "outputs": [],
   "source": [
    "best_estimators_acc = [2,10]\n",
    "best_estimators_f1 = [2,10]\n",
    "best_accuracy = 0\n",
    "best_f1 = 0\n",
    "for max_depth in [2,3,4,5,6,7,8]:\n",
    "    for n_estimators in [10,50,100,200,350,500,750,1000]:\n",
    "        av_accuracy = 0\n",
    "        av_f1 = 0\n",
    "        for i in range(5):\n",
    "            X_train = train_forest_features_list[i].iloc[:,:-1]\n",
    "            y_train = train_forest_features_list[i].iloc[:,-1]\n",
    "            X_test = test_forest_features_list[i].iloc[:,:-1]\n",
    "            y_test = test_forest_features_list[i].iloc[:,-1]\n",
    "\n",
    "            xg = XGBClassifier(n_estimators=n_estimators,max_depth=max_depth)\n",
    "            xg.fit(X_train,y_train)\n",
    "            y_pred = xg.predict(X_test)\n",
    "            av_accuracy = av_accuracy + accuracy_score(y_test,y_pred)\n",
    "            av_f1 = av_f1 + f1_score(y_test,y_pred)\n",
    "        av_accuracy = av_accuracy/5\n",
    "        av_f1 = av_f1/5\n",
    "        if av_accuracy > best_accuracy:\n",
    "            best_accuracy = av_accuracy\n",
    "            best_estimators_acc = [max_depth,n_estimators]\n",
    "        if av_f1 > best_f1:\n",
    "            best_f1 = av_f1\n",
    "            best_estimators_f1 = [max_depth,n_estimators]\n",
    "print(best_estimators_acc)\n",
    "print(best_accuracy)\n",
    "print(best_estimators_f1)\n",
    "print(best_f1)"
   ]
  },
  {
   "cell_type": "markdown",
   "metadata": {},
   "source": [
    "In this case, they all perform similarly in terms of accuracy, with Logistic Regression and Random Forest performing a little better when it comes to F1 score."
   ]
  },
  {
   "cell_type": "markdown",
   "metadata": {},
   "source": [
    "Here is a graphical display of the results for cascade forests."
   ]
  },
  {
   "cell_type": "code",
   "execution_count": 17,
   "metadata": {},
   "outputs": [
    {
     "data": {
      "image/png": "[encoded data removed]",
      "text/plain": [
       "<Figure size 720x576 with 1 Axes>"
      ]
     },
     "metadata": {},
     "output_type": "display_data"
    }
   ],
   "source": [
    "sns.set(rc={'figure.figsize':(10,8)})\n",
    "\n",
    "results = pd.DataFrame()\n",
    "results = results.append([{'Classifier':'Logistic','Score':0.663,'Metric':'Accuracy'},\n",
    "                        {'Classifier':'Logistic','Score':0.706,'Metric':'F1'},\n",
    "                        {'Classifier':'Forest','Score':0.677,'Metric':'Accuracy'},\n",
    "                        {'Classifier':'Forest','Score':0.706,'Metric':'F1'},\n",
    "                        {'Classifier':'XGBoost','Score':0.669,'Metric':'Accuracy'},\n",
    "                        {'Classifier':'XGBoost','Score':0.690,'Metric':'F1'}])\n",
    "\n",
    "\n",
    "stx = sns.barplot(x='Metric',y='Score',hue='Classifier',data=results)"
   ]
  },
  {
   "cell_type": "markdown",
   "metadata": {},
   "source": [
    "As a final test, I evaluate the Logistic Regression and Random Forest models on the GME cascade data, training the models on both the original train data and test data."
   ]
  },
  {
   "cell_type": "code",
   "execution_count": 133,
   "metadata": {},
   "outputs": [
    {
     "name": "stdout",
     "output_type": "stream",
     "text": [
      "gme score: \n",
      "0.6\n",
      "f1 score: \n",
      "0.7241379310344828\n",
      "gme score: \n",
      "0.6\n",
      "f1 score: \n",
      "0.7241379310344828\n",
      "gme score: \n",
      "0.6\n",
      "f1 score: \n",
      "0.7241379310344828\n",
      "gme score: \n",
      "0.6\n",
      "f1 score: \n",
      "0.7241379310344828\n",
      "gme score: \n",
      "0.6\n",
      "f1 score: \n",
      "0.7241379310344828\n"
     ]
    }
   ],
   "source": [
    "for i in range(5):\n",
    "    X_train = train_forest_features_list[i].iloc[:,:-1]\n",
    "    y_train = train_forest_features_list[i].iloc[:,-1]\n",
    "    X_test = test_forest_features_list[i].iloc[:,:-1]\n",
    "    y_test = test_forest_features_list[i].iloc[:,-1]\n",
    "    \n",
    "    X_train_all = X_train.append(X_test)\n",
    "    y_train_all = y_train.append(y_test)\n",
    "    \n",
    "    logreg = make_pipeline(StandardScaler(),LogisticRegression(C=1))\n",
    "    logreg.fit(X_train_all,y_train_all)\n",
    "    gme_pred = logreg.predict(gme_features.iloc[:,:-1])\n",
    "    \n",
    "    print('gme score: ')\n",
    "    print(accuracy_score(gme_features.iloc[:,-1],gme_pred))\n",
    "    print('f1 score: ')\n",
    "    print(f1_score(gme_features.iloc[:,-1],gme_pred))\n",
    "    \n",
    "    "
   ]
  },
  {
   "cell_type": "code",
   "execution_count": 137,
   "metadata": {},
   "outputs": [
    {
     "name": "stdout",
     "output_type": "stream",
     "text": [
      "gme score: \n",
      "0.25\n",
      "f1 score: \n",
      "0.03225806451612903\n",
      "gme score: \n",
      "0.2625\n",
      "f1 score: \n",
      "0.06349206349206349\n",
      "gme score: \n",
      "0.25\n",
      "f1 score: \n",
      "0.03225806451612903\n",
      "gme score: \n",
      "0.2625\n",
      "f1 score: \n",
      "0.06349206349206349\n",
      "gme score: \n",
      "0.2625\n",
      "f1 score: \n",
      "0.06349206349206349\n"
     ]
    }
   ],
   "source": [
    "for i in range(5):\n",
    "    X_train = train_forest_features_list[i].iloc[:,:-1]\n",
    "    y_train = train_forest_features_list[i].iloc[:,-1]\n",
    "    X_test = test_forest_features_list[i].iloc[:,:-1]\n",
    "    y_test = test_forest_features_list[i].iloc[:,-1]\n",
    "    \n",
    "    X_train_all = X_train.append(X_test)\n",
    "    y_train_all = y_train.append(y_test)\n",
    "    \n",
    "    rf = RandomForestClassifier(n_estimators=50,max_depth=4)\n",
    "    rf.fit(X_train_all,y_train_all)\n",
    "    gme_pred = rf.predict(gme_features.iloc[:,:-1])\n",
    "    \n",
    "    print('gme score: ')\n",
    "    print(accuracy_score(gme_features.iloc[:,-1],gme_pred))\n",
    "    print('f1 score: ')\n",
    "    print(f1_score(gme_features.iloc[:,-1],gme_pred))"
   ]
  },
  {
   "cell_type": "markdown",
   "metadata": {},
   "source": [
    "Rather disappointingly, the Logistic Regression model performs notably worse than on the other test data, and the Random Forest performs abysmally. I was hopeful that there would be enough similarity in temporal structure bwteen large cascades and the huge GME cascade, but perhaps this was a naive assumption. The GME cascade will naturally have a more complex pattern, as it consists of thousands of post-comment trees."
   ]
  },
  {
   "cell_type": "markdown",
   "metadata": {},
   "source": [
    "In conclusion, while this did not come up with the result I would ideally like to have achieved, the predictions on the rest of the data were reasonably good, at around 70% F1 score for both tree data and forest data. There are many more explorations that could be made into this topic, including incorporating more temporal features, restructuring the testing process to allow for the incorporation of other features, and perhaps most importantly, gathering more cascade forest data. Since I was exclusively using temporal features in my analysis, the model could in theory be trained on any reddit cascades, and this logic would also apply to structural features.\n",
    "\n",
    "One reason why I disregarded user-specific features in this analysis is that reddit has a much larger degree of anonymity than twitter or other social networks: while there definitely popular content creators, there is much less of a 'celebrity' culture on the site. Additionally, there is no way (to my knowledge) to extract the number of followers for a specific reddit user.\n",
    "\n",
    "This has also been a valuable process for me, in which I have become familiar with a number of new tools, and got the opportunity to explore an interesting topic."
   ]
  },
  {
   "cell_type": "code",
   "execution_count": null,
   "metadata": {},
   "outputs": [],
   "source": []
  }
 ],
 "metadata": {
  "kernelspec": {
   "display_name": "Python 3",
   "language": "python",
   "name": "python3"
  },
  "language_info": {
   "codemirror_mode": {
    "name": "ipython",
    "version": 3
   },
   "file_extension": ".py",
   "mimetype": "text/x-python",
   "name": "python",
   "nbconvert_exporter": "python",
   "pygments_lexer": "ipython3",
   "version": "3.8.3"
  }
 },
 "nbformat": 4,
 "nbformat_minor": 4
}
