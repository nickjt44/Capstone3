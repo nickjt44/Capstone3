{
 "cells": [
  {
   "cell_type": "markdown",
   "metadata": {},
   "source": [
    "This notebook is for preprocessing the data for modeling in the next notebook.\n",
    "\n",
    "First, I import the necessary libraries.\n",
    "\n",
    "networkx is a graph package for Python, which allows data to easily be represented and analyzed in graph form."
   ]
  },
  {
   "cell_type": "code",
   "execution_count": 1,
   "metadata": {},
   "outputs": [],
   "source": [
    "import pandas as pd\n",
    "import numpy as np\n",
    "import networkx as nx"
   ]
  },
  {
   "cell_type": "markdown",
   "metadata": {},
   "source": [
    "I load the posts and comments from previous notebooks, and filter them. I keep only posts within a specific upvote ratio, the hypothesis being that a higher ratio of upvotes indicates that the post is constructive, or at the very least contributing to the collective hype around a stock.\n",
    "\n",
    "I also remove megathreads, both because they were too large to efficiently mine comments from, and because they are very spam-heavy and with no specific direction from the opening post."
   ]
  },
  {
   "cell_type": "code",
   "execution_count": 53,
   "metadata": {},
   "outputs": [
    {
     "name": "stderr",
     "output_type": "stream",
     "text": [
      "C:\\Users\\nickj\\anaconda3\\lib\\site-packages\\numpy\\lib\\arraysetops.py:583: FutureWarning: elementwise comparison failed; returning scalar instead, but in the future will perform elementwise comparison\n",
      "  mask |= (ar1 == a)\n"
     ]
    }
   ],
   "source": [
    "posts = pd.read_csv('posts.csv',index_col=0)\n",
    "comments = pd.read_csv('comments.csv',index_col=0)"
   ]
  },
  {
   "cell_type": "code",
   "execution_count": 3,
   "metadata": {},
   "outputs": [],
   "source": [
    "posts = posts[posts.upvote_ratio >= 0.75]"
   ]
  },
  {
   "cell_type": "code",
   "execution_count": null,
   "metadata": {},
   "outputs": [],
   "source": [
    "posts.nlargest(50,'num_comments_true')"
   ]
  },
  {
   "cell_type": "code",
   "execution_count": 4,
   "metadata": {},
   "outputs": [],
   "source": [
    "posts = posts[~posts.index.isin(['l6i12n','l5ne0q','l4lmrx','l5xpai','l7iorh','lm7n51','lq0l68','la5s8i','lcdspa','lbm3vr','lab86a',\n",
    "                                'l0hhqg','lce3mf','lg0mn2','ld4yet','l74zgc','lgrxxk','lf9rdy','lcoe7l','lb7rg4',\n",
    "                                'lbyf09','lhk9iv'])]"
   ]
  },
  {
   "cell_type": "markdown",
   "metadata": {},
   "source": [
    "I also remove comments with no indicated author, and restrict them to ones whose parent post is still in the posts dataframe."
   ]
  },
  {
   "cell_type": "code",
   "execution_count": 56,
   "metadata": {},
   "outputs": [],
   "source": [
    "comments = comments[comments.link_id.isin(posts.index)]"
   ]
  },
  {
   "cell_type": "code",
   "execution_count": 57,
   "metadata": {},
   "outputs": [],
   "source": [
    "comments = comments[~comments.author.isna()]"
   ]
  },
  {
   "cell_type": "markdown",
   "metadata": {},
   "source": [
    "These are the final shapes of both dataframes."
   ]
  },
  {
   "cell_type": "code",
   "execution_count": 58,
   "metadata": {},
   "outputs": [
    {
     "data": {
      "text/plain": [
       "(2192225, 9)"
      ]
     },
     "execution_count": 58,
     "metadata": {},
     "output_type": "execute_result"
    }
   ],
   "source": [
    "comments.shape"
   ]
  },
  {
   "cell_type": "code",
   "execution_count": 59,
   "metadata": {},
   "outputs": [
    {
     "data": {
      "text/plain": [
       "(289821, 15)"
      ]
     },
     "execution_count": 59,
     "metadata": {},
     "output_type": "execute_result"
    }
   ],
   "source": [
    "posts.shape"
   ]
  },
  {
   "cell_type": "markdown",
   "metadata": {},
   "source": [
    "Here, I set the index of comments to be the unique comment id."
   ]
  },
  {
   "cell_type": "code",
   "execution_count": 60,
   "metadata": {},
   "outputs": [],
   "source": [
    "comments = comments.set_index('id')"
   ]
  },
  {
   "cell_type": "code",
   "execution_count": 61,
   "metadata": {},
   "outputs": [
    {
     "data": {
      "text/html": [
       "<div>\n",
       "<style scoped>\n",
       "    .dataframe tbody tr th:only-of-type {\n",
       "        vertical-align: middle;\n",
       "    }\n",
       "\n",
       "    .dataframe tbody tr th {\n",
       "        vertical-align: top;\n",
       "    }\n",
       "\n",
       "    .dataframe thead th {\n",
       "        text-align: right;\n",
       "    }\n",
       "</style>\n",
       "<table border=\"1\" class=\"dataframe\">\n",
       "  <thead>\n",
       "    <tr style=\"text-align: right;\">\n",
       "      <th></th>\n",
       "      <th>author</th>\n",
       "      <th>parent_id</th>\n",
       "      <th>link_id</th>\n",
       "      <th>subreddit</th>\n",
       "      <th>body</th>\n",
       "      <th>score</th>\n",
       "      <th>permalink</th>\n",
       "      <th>created_utc</th>\n",
       "    </tr>\n",
       "    <tr>\n",
       "      <th>id</th>\n",
       "      <th></th>\n",
       "      <th></th>\n",
       "      <th></th>\n",
       "      <th></th>\n",
       "      <th></th>\n",
       "      <th></th>\n",
       "      <th></th>\n",
       "      <th></th>\n",
       "    </tr>\n",
       "  </thead>\n",
       "  <tbody>\n",
       "    <tr>\n",
       "      <th>g3jg6ae</th>\n",
       "      <td>MnVikingsFan34</td>\n",
       "      <td>ikazok</td>\n",
       "      <td>ikazok</td>\n",
       "      <td>wallstreetbets</td>\n",
       "      <td>About as likely as me regaining my missing chr...</td>\n",
       "      <td>69</td>\n",
       "      <td>/r/wallstreetbets/comments/ikazok/what_are_the...</td>\n",
       "      <td>1.598924e+09</td>\n",
       "    </tr>\n",
       "    <tr>\n",
       "      <th>g3jgdna</th>\n",
       "      <td>hedgeAgainst</td>\n",
       "      <td>ikazok</td>\n",
       "      <td>ikazok</td>\n",
       "      <td>wallstreetbets</td>\n",
       "      <td>Not happening. AMZN is the new BRK.A.</td>\n",
       "      <td>93</td>\n",
       "      <td>/r/wallstreetbets/comments/ikazok/what_are_the...</td>\n",
       "      <td>1.598924e+09</td>\n",
       "    </tr>\n",
       "    <tr>\n",
       "      <th>g3jgg4f</th>\n",
       "      <td>RainMan214</td>\n",
       "      <td>ikb0s0</td>\n",
       "      <td>ikb0s0</td>\n",
       "      <td>wallstreetbets</td>\n",
       "      <td>Holy shit</td>\n",
       "      <td>2</td>\n",
       "      <td>/r/wallstreetbets/comments/ikb0s0/did_i_win_39...</td>\n",
       "      <td>1.598924e+09</td>\n",
       "    </tr>\n",
       "    <tr>\n",
       "      <th>g3jgho0</th>\n",
       "      <td>hedgeAgainst</td>\n",
       "      <td>g3jg6ae</td>\n",
       "      <td>ikazok</td>\n",
       "      <td>wallstreetbets</td>\n",
       "      <td>Musk will reveal his new gene therapy next month.</td>\n",
       "      <td>2</td>\n",
       "      <td>/r/wallstreetbets/comments/ikazok/what_are_the...</td>\n",
       "      <td>1.598924e+09</td>\n",
       "    </tr>\n",
       "    <tr>\n",
       "      <th>g3jgjio</th>\n",
       "      <td>RainMan214</td>\n",
       "      <td>ikazok</td>\n",
       "      <td>ikazok</td>\n",
       "      <td>wallstreetbets</td>\n",
       "      <td>Why not wait till he announces the split? If i...</td>\n",
       "      <td>1</td>\n",
       "      <td>/r/wallstreetbets/comments/ikazok/what_are_the...</td>\n",
       "      <td>1.598924e+09</td>\n",
       "    </tr>\n",
       "  </tbody>\n",
       "</table>\n",
       "</div>"
      ],
      "text/plain": [
       "                 author parent_id link_id       subreddit  \\\n",
       "id                                                          \n",
       "g3jg6ae  MnVikingsFan34    ikazok  ikazok  wallstreetbets   \n",
       "g3jgdna    hedgeAgainst    ikazok  ikazok  wallstreetbets   \n",
       "g3jgg4f      RainMan214    ikb0s0  ikb0s0  wallstreetbets   \n",
       "g3jgho0    hedgeAgainst   g3jg6ae  ikazok  wallstreetbets   \n",
       "g3jgjio      RainMan214    ikazok  ikazok  wallstreetbets   \n",
       "\n",
       "                                                      body  score  \\\n",
       "id                                                                  \n",
       "g3jg6ae  About as likely as me regaining my missing chr...     69   \n",
       "g3jgdna              Not happening. AMZN is the new BRK.A.     93   \n",
       "g3jgg4f                                          Holy shit      2   \n",
       "g3jgho0  Musk will reveal his new gene therapy next month.      2   \n",
       "g3jgjio  Why not wait till he announces the split? If i...      1   \n",
       "\n",
       "                                                 permalink   created_utc  \n",
       "id                                                                        \n",
       "g3jg6ae  /r/wallstreetbets/comments/ikazok/what_are_the...  1.598924e+09  \n",
       "g3jgdna  /r/wallstreetbets/comments/ikazok/what_are_the...  1.598924e+09  \n",
       "g3jgg4f  /r/wallstreetbets/comments/ikb0s0/did_i_win_39...  1.598924e+09  \n",
       "g3jgho0  /r/wallstreetbets/comments/ikazok/what_are_the...  1.598924e+09  \n",
       "g3jgjio  /r/wallstreetbets/comments/ikazok/what_are_the...  1.598924e+09  "
      ]
     },
     "execution_count": 61,
     "metadata": {},
     "output_type": "execute_result"
    }
   ],
   "source": [
    "comments.head()"
   ]
  },
  {
   "cell_type": "markdown",
   "metadata": {},
   "source": [
    "The following code accounts for comments whose parent comment is not in the dataframe, and converts the immediate parent to the parent post. This project will not involve analyzing sentiment, so this won't be problematic for analysis."
   ]
  },
  {
   "cell_type": "code",
   "execution_count": 66,
   "metadata": {},
   "outputs": [],
   "source": [
    "index = comments.index"
   ]
  },
  {
   "cell_type": "code",
   "execution_count": 9,
   "metadata": {},
   "outputs": [],
   "source": [
    "def in_index(x):\n",
    "    if x['parent_id'] == x['link_id']:\n",
    "        return x\n",
    "    if x['parent_id'] not in index:\n",
    "        x['parent_id'] = x['link_id']\n",
    "    return x"
   ]
  },
  {
   "cell_type": "code",
   "execution_count": 67,
   "metadata": {},
   "outputs": [],
   "source": [
    "ids = comments[comments.parent_id != comments.link_id]"
   ]
  },
  {
   "cell_type": "code",
   "execution_count": 70,
   "metadata": {},
   "outputs": [
    {
     "data": {
      "text/plain": [
       "121378"
      ]
     },
     "execution_count": 70,
     "metadata": {},
     "output_type": "execute_result"
    }
   ],
   "source": [
    "len(ids)"
   ]
  },
  {
   "cell_type": "code",
   "execution_count": 69,
   "metadata": {},
   "outputs": [],
   "source": [
    "ids = ids[~ids.parent_id.isin(index)].index"
   ]
  },
  {
   "cell_type": "code",
   "execution_count": 71,
   "metadata": {},
   "outputs": [],
   "source": [
    "comments.loc[ids,'parent_id'] = comments.loc[ids,'link_id']"
   ]
  },
  {
   "cell_type": "code",
   "execution_count": 17,
   "metadata": {},
   "outputs": [],
   "source": [
    "posts.to_csv('posts_ready.csv')\n",
    "comments.to_csv('comments_ready.csv')"
   ]
  },
  {
   "cell_type": "code",
   "execution_count": 2,
   "metadata": {},
   "outputs": [
    {
     "name": "stderr",
     "output_type": "stream",
     "text": [
      "C:\\Users\\nickj\\anaconda3\\lib\\site-packages\\numpy\\lib\\arraysetops.py:583: FutureWarning: elementwise comparison failed; returning scalar instead, but in the future will perform elementwise comparison\n",
      "  mask |= (ar1 == a)\n"
     ]
    }
   ],
   "source": [
    "posts = pd.read_csv('posts_ready.csv',index_col=0)\n",
    "comments = pd.read_csv('comments_ready.csv',index_col=0)"
   ]
  },
  {
   "cell_type": "code",
   "execution_count": 3,
   "metadata": {},
   "outputs": [
    {
     "data": {
      "text/html": [
       "<div>\n",
       "<style scoped>\n",
       "    .dataframe tbody tr th:only-of-type {\n",
       "        vertical-align: middle;\n",
       "    }\n",
       "\n",
       "    .dataframe tbody tr th {\n",
       "        vertical-align: top;\n",
       "    }\n",
       "\n",
       "    .dataframe thead th {\n",
       "        text-align: right;\n",
       "    }\n",
       "</style>\n",
       "<table border=\"1\" class=\"dataframe\">\n",
       "  <thead>\n",
       "    <tr style=\"text-align: right;\">\n",
       "      <th></th>\n",
       "      <th>author</th>\n",
       "      <th>subreddit</th>\n",
       "      <th>selftext</th>\n",
       "      <th>num_comments</th>\n",
       "      <th>score</th>\n",
       "      <th>title</th>\n",
       "      <th>permalink</th>\n",
       "      <th>link_flair_css_class</th>\n",
       "      <th>created_utc</th>\n",
       "      <th>stock</th>\n",
       "      <th>num_comments_true</th>\n",
       "      <th>score_true</th>\n",
       "      <th>upvote_ratio</th>\n",
       "    </tr>\n",
       "    <tr>\n",
       "      <th>id</th>\n",
       "      <th></th>\n",
       "      <th></th>\n",
       "      <th></th>\n",
       "      <th></th>\n",
       "      <th></th>\n",
       "      <th></th>\n",
       "      <th></th>\n",
       "      <th></th>\n",
       "      <th></th>\n",
       "      <th></th>\n",
       "      <th></th>\n",
       "      <th></th>\n",
       "      <th></th>\n",
       "    </tr>\n",
       "  </thead>\n",
       "  <tbody>\n",
       "    <tr>\n",
       "      <th>il81vu</th>\n",
       "      <td>JackMaverick7</td>\n",
       "      <td>wallstreetbets</td>\n",
       "      <td>NaN</td>\n",
       "      <td>2</td>\n",
       "      <td>1</td>\n",
       "      <td>$AMC up 15% today already and labor day weeken...</td>\n",
       "      <td>/r/wallstreetbets/comments/il81vu/amc_up_15_to...</td>\n",
       "      <td>question</td>\n",
       "      <td>1.599058e+09</td>\n",
       "      <td>AMC</td>\n",
       "      <td>1.0</td>\n",
       "      <td>1.0</td>\n",
       "      <td>1.0</td>\n",
       "    </tr>\n",
       "    <tr>\n",
       "      <th>il848o</th>\n",
       "      <td>JackMaverick7</td>\n",
       "      <td>wallstreetbets</td>\n",
       "      <td>NaN</td>\n",
       "      <td>2</td>\n",
       "      <td>1</td>\n",
       "      <td>$AMC up 15% today already and big viewing numb...</td>\n",
       "      <td>/r/wallstreetbets/comments/il848o/amc_up_15_to...</td>\n",
       "      <td>question</td>\n",
       "      <td>1.599058e+09</td>\n",
       "      <td>AMC</td>\n",
       "      <td>1.0</td>\n",
       "      <td>1.0</td>\n",
       "      <td>1.0</td>\n",
       "    </tr>\n",
       "    <tr>\n",
       "      <th>ilhn1t</th>\n",
       "      <td>Wiletj1</td>\n",
       "      <td>wallstreetbets</td>\n",
       "      <td>[removed]</td>\n",
       "      <td>2</td>\n",
       "      <td>1</td>\n",
       "      <td>Good Expiration Date for Shorting AMC</td>\n",
       "      <td>/r/wallstreetbets/comments/ilhn1t/good_expirat...</td>\n",
       "      <td>question</td>\n",
       "      <td>1.599088e+09</td>\n",
       "      <td>AMC</td>\n",
       "      <td>1.0</td>\n",
       "      <td>1.0</td>\n",
       "      <td>1.0</td>\n",
       "    </tr>\n",
       "    <tr>\n",
       "      <th>ipu68n</th>\n",
       "      <td>kushkiller1</td>\n",
       "      <td>wallstreetbets</td>\n",
       "      <td>[removed]</td>\n",
       "      <td>2</td>\n",
       "      <td>1</td>\n",
       "      <td>AMC $7 Calls 9/18? Going up?</td>\n",
       "      <td>/r/wallstreetbets/comments/ipu68n/amc_7_calls_...</td>\n",
       "      <td>stocks</td>\n",
       "      <td>1.599703e+09</td>\n",
       "      <td>AMC</td>\n",
       "      <td>1.0</td>\n",
       "      <td>1.0</td>\n",
       "      <td>1.0</td>\n",
       "    </tr>\n",
       "    <tr>\n",
       "      <th>iqqyc6</th>\n",
       "      <td>kushkiller1</td>\n",
       "      <td>wallstreetbets</td>\n",
       "      <td>[removed]</td>\n",
       "      <td>2</td>\n",
       "      <td>1</td>\n",
       "      <td>AMC CALLS? 80% of the theaters have reopened!</td>\n",
       "      <td>/r/wallstreetbets/comments/iqqyc6/amc_calls_80...</td>\n",
       "      <td>dd</td>\n",
       "      <td>1.599833e+09</td>\n",
       "      <td>AMC</td>\n",
       "      <td>1.0</td>\n",
       "      <td>1.0</td>\n",
       "      <td>1.0</td>\n",
       "    </tr>\n",
       "  </tbody>\n",
       "</table>\n",
       "</div>"
      ],
      "text/plain": [
       "               author       subreddit   selftext  num_comments  score  \\\n",
       "id                                                                      \n",
       "il81vu  JackMaverick7  wallstreetbets        NaN             2      1   \n",
       "il848o  JackMaverick7  wallstreetbets        NaN             2      1   \n",
       "ilhn1t        Wiletj1  wallstreetbets  [removed]             2      1   \n",
       "ipu68n    kushkiller1  wallstreetbets  [removed]             2      1   \n",
       "iqqyc6    kushkiller1  wallstreetbets  [removed]             2      1   \n",
       "\n",
       "                                                    title  \\\n",
       "id                                                          \n",
       "il81vu  $AMC up 15% today already and labor day weeken...   \n",
       "il848o  $AMC up 15% today already and big viewing numb...   \n",
       "ilhn1t              Good Expiration Date for Shorting AMC   \n",
       "ipu68n                       AMC $7 Calls 9/18? Going up?   \n",
       "iqqyc6      AMC CALLS? 80% of the theaters have reopened!   \n",
       "\n",
       "                                                permalink  \\\n",
       "id                                                          \n",
       "il81vu  /r/wallstreetbets/comments/il81vu/amc_up_15_to...   \n",
       "il848o  /r/wallstreetbets/comments/il848o/amc_up_15_to...   \n",
       "ilhn1t  /r/wallstreetbets/comments/ilhn1t/good_expirat...   \n",
       "ipu68n  /r/wallstreetbets/comments/ipu68n/amc_7_calls_...   \n",
       "iqqyc6  /r/wallstreetbets/comments/iqqyc6/amc_calls_80...   \n",
       "\n",
       "       link_flair_css_class   created_utc stock  num_comments_true  \\\n",
       "id                                                                   \n",
       "il81vu             question  1.599058e+09   AMC                1.0   \n",
       "il848o             question  1.599058e+09   AMC                1.0   \n",
       "ilhn1t             question  1.599088e+09   AMC                1.0   \n",
       "ipu68n               stocks  1.599703e+09   AMC                1.0   \n",
       "iqqyc6                   dd  1.599833e+09   AMC                1.0   \n",
       "\n",
       "        score_true  upvote_ratio  \n",
       "id                                \n",
       "il81vu         1.0           1.0  \n",
       "il848o         1.0           1.0  \n",
       "ilhn1t         1.0           1.0  \n",
       "ipu68n         1.0           1.0  \n",
       "iqqyc6         1.0           1.0  "
      ]
     },
     "execution_count": 3,
     "metadata": {},
     "output_type": "execute_result"
    }
   ],
   "source": [
    "posts.head()"
   ]
  },
  {
   "cell_type": "markdown",
   "metadata": {},
   "source": [
    "Here, I create a new column in the posts dataframe that contains any other posts that the post in the row is adjacent to. Here I define adjacent as \"someone has commented on this post, and then made a new post mentioning the same stock within the next 24 hours\". This will be valuable for determining information cascades consisting of multiple post-comment trees."
   ]
  },
  {
   "cell_type": "code",
   "execution_count": null,
   "metadata": {},
   "outputs": [],
   "source": [
    "count = 0\n",
    "for i,row in posts.iterrows():\n",
    "    count += 1\n",
    "    if count < 0:\n",
    "        continue\n",
    "    if count%100 == 0:\n",
    "        print(count)\n",
    "    temp_list = ''\n",
    "    if row.num_comments_true == 0:\n",
    "        continue\n",
    "    comments_post = comments[comments.link_id == i]\n",
    "    for author in comments_post.author:\n",
    "        author_posts = posts[posts.author == author]\n",
    "        for j,post in author_posts.iterrows():\n",
    "            flag = 0\n",
    "            for stock in row.stock.split('|'):\n",
    "                if stock in post.stock.split('|'):\n",
    "                    flag = 1\n",
    "            if flag == 1:\n",
    "                if post.created_utc > row.created_utc and post.created_utc - row.created_utc < 86400:\n",
    "                    temp_list = temp_list + j + '|'\n",
    "    posts.loc[i,'adjacent'] = temp_list[:-1]"
   ]
  },
  {
   "cell_type": "code",
   "execution_count": 12,
   "metadata": {},
   "outputs": [],
   "source": [
    "posts.to_csv('posts_temp_july.csv')"
   ]
  },
  {
   "cell_type": "code",
   "execution_count": 55,
   "metadata": {},
   "outputs": [
    {
     "data": {
      "text/plain": [
       "l7mf0h|l7t5vq                                                            28\n",
       "ldbb61                                                                   18\n",
       "l5bqh1                                                                   18\n",
       "l6bvz7                                                                   17\n",
       "k2gzuu                                                                   16\n",
       "                                                                         ..\n",
       "la5914|la5pr4|la5uji|la76f4|la9ea6|laak5l|lan5qr|lan7a3|laofjc|labpkj     1\n",
       "l2bbnw                                                                    1\n",
       "isot9i|isot9i|isot9i                                                      1\n",
       "k2419k                                                                    1\n",
       "lb518s                                                                    1\n",
       "Name: adjacent, Length: 18413, dtype: int64"
      ]
     },
     "execution_count": 55,
     "metadata": {},
     "output_type": "execute_result"
    }
   ],
   "source": [
    "posts['adjacent'].value_counts()"
   ]
  },
  {
   "cell_type": "code",
   "execution_count": 75,
   "metadata": {},
   "outputs": [],
   "source": [
    "posts.to_csv('posts_final_save.csv')\n",
    "comments.to_csv('comments_final_save.csv')"
   ]
  },
  {
   "cell_type": "markdown",
   "metadata": {},
   "source": [
    "Here, I add date columns to the posts and comments dataframes, and the author of the parent post and stock information for each comment."
   ]
  },
  {
   "cell_type": "code",
   "execution_count": 72,
   "metadata": {},
   "outputs": [],
   "source": [
    "posts['date'] = pd.to_datetime(posts['created_utc'],errors='coerce',unit='s').dt.strftime(\"%Y-%m-%d\")\n",
    "comments['date'] = pd.to_datetime(comments['created_utc'],errors='coerce',unit='s').dt.strftime(\"%Y-%m-%d\")"
   ]
  },
  {
   "cell_type": "code",
   "execution_count": 73,
   "metadata": {},
   "outputs": [],
   "source": [
    "comments['link'] = comments['link_id'].apply(lambda x: posts.loc[x,'author'])\n",
    "comments['stock'] = comments['link_id'].apply(lambda x: posts.loc[x,'stock'])"
   ]
  },
  {
   "cell_type": "code",
   "execution_count": 74,
   "metadata": {},
   "outputs": [],
   "source": [
    "posts = posts.sort_values('created_utc')\n",
    "comments = comments.sort_values('created_utc')"
   ]
  },
  {
   "cell_type": "markdown",
   "metadata": {},
   "source": [
    "Finally, I create my graph object. This is a directed graph, with each node being a post or a comment. There will be two types of directed edges: post -> comment or comment -> comment, indicating a direct reply, and post -> post, indicating 'adjacent' posts, as defined earlier."
   ]
  },
  {
   "cell_type": "code",
   "execution_count": 4,
   "metadata": {},
   "outputs": [],
   "source": [
    "posts_graph = nx.DiGraph()"
   ]
  },
  {
   "cell_type": "code",
   "execution_count": 5,
   "metadata": {},
   "outputs": [],
   "source": [
    "for i,row in posts.iterrows():\n",
    "    posts_graph.add_node(i,author=row.author,stocks=row.stock.split('|'),time=row.created_utc,date=row.date,score=row.score_true,posttype='post')"
   ]
  },
  {
   "cell_type": "code",
   "execution_count": 6,
   "metadata": {},
   "outputs": [],
   "source": [
    "for i,row in comments.iterrows():\n",
    "    posts_graph.add_node(i,author=row.author,stocks=row.stock.split('|'),time=row.created_utc,date=row.date,score=row.score,posttype='comment')"
   ]
  },
  {
   "cell_type": "code",
   "execution_count": null,
   "metadata": {},
   "outputs": [],
   "source": [
    "count = 0\n",
    "for i,row in comments.iterrows():\n",
    "    count += 1\n",
    "    if count % 100 == 0:\n",
    "        print(count)\n",
    "    if row.link_id == row.parent_id:\n",
    "        weight = posts.loc[row.link_id,'created_utc'] - row.created_utc\n",
    "    else:\n",
    "        weight = comments.loc[row.parent_id,'created_utc'] - row.created_utc\n",
    "    posts_graph.add_edge(row.parent_id,i,weight=weight)"
   ]
  },
  {
   "cell_type": "code",
   "execution_count": 80,
   "metadata": {},
   "outputs": [],
   "source": [
    "for i,row in posts.iterrows():\n",
    "    if row.adjacent == np.NaN:\n",
    "        continue\n",
    "    if type(row.adjacent) == float:\n",
    "        continue\n",
    "    if len(row.adjacent) == 0:\n",
    "        continue\n",
    "    for adj in row.adjacent.split('|'):\n",
    "        weight = posts.loc[adj,'created_utc'] - row.created_utc\n",
    "        posts_graph.add_edge(i,adj,weight=weight)"
   ]
  },
  {
   "cell_type": "markdown",
   "metadata": {},
   "source": [
    "After constructing the graph, I observe the node count and edge count. This is a very sparse graph, with slightly more nodes than edges."
   ]
  },
  {
   "cell_type": "code",
   "execution_count": 81,
   "metadata": {},
   "outputs": [
    {
     "data": {
      "text/plain": [
       "2482046"
      ]
     },
     "execution_count": 81,
     "metadata": {},
     "output_type": "execute_result"
    }
   ],
   "source": [
    "len(posts_graph.nodes())"
   ]
  },
  {
   "cell_type": "code",
   "execution_count": 82,
   "metadata": {},
   "outputs": [
    {
     "data": {
      "text/plain": [
       "2282869"
      ]
     },
     "execution_count": 82,
     "metadata": {},
     "output_type": "execute_result"
    }
   ],
   "source": [
    "len(posts_graph.edges())"
   ]
  },
  {
   "cell_type": "markdown",
   "metadata": {},
   "source": [
    "Finally, I save the graph as a pickle object for the analysis in the next notebook."
   ]
  },
  {
   "cell_type": "code",
   "execution_count": 83,
   "metadata": {},
   "outputs": [],
   "source": [
    "nx.write_gpickle(posts_graph,open('posts_graph_connected.pkl','wb'))"
   ]
  },
  {
   "cell_type": "code",
   "execution_count": null,
   "metadata": {},
   "outputs": [],
   "source": []
  }
 ],
 "metadata": {
  "kernelspec": {
   "display_name": "Python 3",
   "language": "python",
   "name": "python3"
  },
  "language_info": {
   "codemirror_mode": {
    "name": "ipython",
    "version": 3
   },
   "file_extension": ".py",
   "mimetype": "text/x-python",
   "name": "python",
   "nbconvert_exporter": "python",
   "pygments_lexer": "ipython3",
   "version": "3.8.3"
  }
 },
 "nbformat": 4,
 "nbformat_minor": 4
}
